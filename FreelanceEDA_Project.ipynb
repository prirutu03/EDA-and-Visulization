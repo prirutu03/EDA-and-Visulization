{
  "nbformat": 4,
  "nbformat_minor": 0,
  "metadata": {
    "colab": {
      "provenance": [],
      "authorship_tag": "ABX9TyPu5zyY87KYvfojw2u/wrfq",
      "include_colab_link": true
    },
    "kernelspec": {
      "name": "python3",
      "display_name": "Python 3"
    },
    "language_info": {
      "name": "python"
    }
  },
  "cells": [
    {
      "cell_type": "markdown",
      "metadata": {
        "id": "view-in-github",
        "colab_type": "text"
      },
      "source": [
        "<a href=\"https://colab.research.google.com/github/prirutu03/EDA-and-Visulization/blob/main/FreelanceEDA_Project.ipynb\" target=\"_parent\"><img src=\"https://colab.research.google.com/assets/colab-badge.svg\" alt=\"Open In Colab\"/></a>"
      ]
    },
    {
      "cell_type": "markdown",
      "source": [
        "**Exploratory Data Analysis and visualization of Freelance Platform Dataset**"
      ],
      "metadata": {
        "id": "KI5wdI-UWdsG"
      }
    },
    {
      "cell_type": "markdown",
      "source": [
        "**Introduction**\n",
        "\n",
        "This project was assigned by my guide as part of Data analysis with Python, involves an in-depth analysis of a freelance platform dataset available on Kaggle. This dataset pulls the projects posted by clients on PeoplePerHour and made available on Kaggle. The analysis aims to delve into this dataset to uncover valuable insights into the freelance marketplace, providing a practical application of data analytics techniques learned during Data science and analytics essentials."
      ],
      "metadata": {
        "id": "DeY6KWSqS4YD"
      }
    },
    {
      "cell_type": "markdown",
      "source": [
        "**Dataset Overview**\n",
        "\n",
        "The freelance platform dataset contain information related to freelance projects or job postings along with details about clients and freelancers. Here's a description of the columns present in the dataset:\n",
        "\n",
        "Category Name: Represents the category or field to which the project belongs (e.g., Web Development, Graphic Design, Writing).\n",
        "\n",
        "Experience: Indicates the level of experience required or preferred by the client for the freelance job (e.g., Entry-level, Intermediate, Expert).\n",
        "\n",
        "Sub Category Name: Specifies the sub-category or specific niche within the broader category of the project (e.g., Front-end Development, Logo Design, Content Writing).\n",
        "\n",
        "Currency: Denotes the currency in which the budget or payment for the project is specified.\n",
        "\n",
        "Budget: Represents the allocated or proposed budget for the freelance project.\n",
        "\n",
        "Location: Indicates the location or geographic region associated with the project.\n",
        "\n",
        "Freelancer Preferred From: Specifies the preferred location or region of the freelancer sought by the client.\n",
        "\n",
        "Type: Represents the type of project (e.g., Hourly, Fixed-price).\n",
        "\n",
        "Date Posted: Signifies the date when the project was posted or listed on the freelance platform.\n",
        "\n",
        "Description: Contains a description or details about the project requirements, scope, or deliverables.\n",
        "\n",
        "Duration: Indicates the expected or proposed duration or timeline for project completion.\n",
        "\n",
        "Client Registration Date: Specifies the date when the client registered on the platform.\n",
        "\n",
        "Client City: Represents the city of the client associated with the project.\n",
        "\n",
        "Client Country: Denotes the country of the client associated with the project.\n",
        "\n",
        "Client Currency: Specifies the currency used by the client.\n",
        "\n",
        "Client Job Title: Represents the job title or designation of the client."
      ],
      "metadata": {
        "id": "EYekI957S3pL"
      }
    },
    {
      "cell_type": "markdown",
      "source": [
        "**Objectives**\n",
        "\n",
        "* Apply learned data analytics and visualization techniques to explore, clean,\n",
        "and analyze the freelance platform dataset.\n",
        "* Uncover patterns, trends, and correlations within the dataset to gain insights into client preferences, project characteristics, and market dynamics.\n",
        "* Create visual representations of the data to effectively communicate findings.\n",
        "* Utilize the project as a practical showcase of acquired skills and knowledge from the Data science and analytics essentials course curriculum.\n",
        "\n",
        "\n"
      ],
      "metadata": {
        "id": "q4Y69sk_ZuWw"
      }
    },
    {
      "cell_type": "markdown",
      "source": [
        "Perform necessary EDA on the data\n",
        "\n",
        "Exploratory Data Analysis (EDA) is a crucial step in data science that involves analyzing and summarizing datasets to uncover patterns, trends, and insights. In EDA we do following steps:\n",
        "\n",
        "* Observe the dataset\n",
        "* Find the shape of dataset\n",
        "* Find any missing values\n",
        "* Find datatypes\n"
      ],
      "metadata": {
        "id": "giLOQ2ymbVAZ"
      }
    },
    {
      "cell_type": "markdown",
      "source": [
        "Importing the required libraries for EDA\n",
        "\n",
        "Below are the libraries that are used in order to perform EDA"
      ],
      "metadata": {
        "id": "Qj4PtQdVLVBi"
      }
    },
    {
      "cell_type": "code",
      "execution_count": 30,
      "metadata": {
        "id": "6-k11VMbSf1-"
      },
      "outputs": [],
      "source": [
        "# import necessary libraries\n",
        "\n",
        "import numpy as np\n",
        "import pandas as pd\n",
        "import matplotlib.pyplot as plt\n",
        "import seaborn as sns\n",
        "import plotly.express as px"
      ]
    },
    {
      "cell_type": "markdown",
      "source": [
        "Loading the data into the data frame."
      ],
      "metadata": {
        "id": "YytRJEeALcTd"
      }
    },
    {
      "cell_type": "code",
      "source": [
        "# read the dataset\n",
        "\n",
        "df = pd.read_csv('/content/Freelance Platform Projects.csv') #Read the CSV file\n",
        "df.head() # Display the top five rows of the data"
      ],
      "metadata": {
        "colab": {
          "base_uri": "https://localhost:8080/",
          "height": 556
        },
        "id": "w_pniNDRgM8i",
        "outputId": "90a307ae-9b6b-4e69-f111-ee0b9fec9ba3"
      },
      "execution_count": 31,
      "outputs": [
        {
          "output_type": "execute_result",
          "data": {
            "text/plain": [
              "                                   Title         Category Name    Experience  \\\n",
              "0  Banner images for web desgin websites                Design     Entry ($)   \n",
              "1    Make my picture a solid silhouette   Video, Photo & Image     Entry ($)   \n",
              "2                      Bookkeeper needed              Business     Entry ($)   \n",
              "3                     Accountant needed               Business     Entry ($)   \n",
              "4          Guest Post on High DA Website     Digital Marketing  Expert ($$$)   \n",
              "\n",
              "           Sub Category Name Currency   Budget Location  \\\n",
              "0             Graphic Design      EUR     60.0   remote   \n",
              "1              Image Editing      GBP     20.0   remote   \n",
              "2       Finance & Accounting      GBP     12.0   remote   \n",
              "3  Tax Consulting & Advising      GBP     14.0   remote   \n",
              "4                        SEO      USD  10000.0   remote   \n",
              "\n",
              "  Freelancer Preferred From         Type          Date Posted  \\\n",
              "0                       ALL  fixed_price  2023-04-29 18:06:39   \n",
              "1                       ALL  fixed_price  2023-04-29 17:40:28   \n",
              "2                       ALL  fixed_price  2023-04-29 17:40:06   \n",
              "3                       ALL  fixed_price  2023-04-29 17:32:01   \n",
              "4                       ALL  fixed_price  2023-04-29 17:09:36   \n",
              "\n",
              "                                         Description Duration  \\\n",
              "0  We are looking to improve the banner images on...      NaN   \n",
              "1  Hello \\n\\nI need a quick designer to make 4 pi...      NaN   \n",
              "2  Hi - I need a bookkeeper to assist with bookke...      NaN   \n",
              "3  Hi - I need an accountant to assist me with un...      NaN   \n",
              "4  Hi, I am currently running a project where I w...      NaN   \n",
              "\n",
              "  Client Registration Date Client City  Client Country Client Currency  \\\n",
              "0               2010-11-03      Dublin         Ireland             EUR   \n",
              "1               2017-02-21      London  United Kingdom             GBP   \n",
              "2               2023-04-09      London  United Kingdom             GBP   \n",
              "3               2023-04-09      London  United Kingdom             GBP   \n",
              "4               2016-07-01      Mumbai           India             USD   \n",
              "\n",
              "    Client Job Title  \n",
              "0     PPC Management  \n",
              "1     Office manager  \n",
              "2          Paralegal  \n",
              "3          Paralegal  \n",
              "4  Guest posts buyer  "
            ],
            "text/html": [
              "\n",
              "  <div id=\"df-7c9abb40-955c-4854-99fd-dc57e2b11931\" class=\"colab-df-container\">\n",
              "    <div>\n",
              "<style scoped>\n",
              "    .dataframe tbody tr th:only-of-type {\n",
              "        vertical-align: middle;\n",
              "    }\n",
              "\n",
              "    .dataframe tbody tr th {\n",
              "        vertical-align: top;\n",
              "    }\n",
              "\n",
              "    .dataframe thead th {\n",
              "        text-align: right;\n",
              "    }\n",
              "</style>\n",
              "<table border=\"1\" class=\"dataframe\">\n",
              "  <thead>\n",
              "    <tr style=\"text-align: right;\">\n",
              "      <th></th>\n",
              "      <th>Title</th>\n",
              "      <th>Category Name</th>\n",
              "      <th>Experience</th>\n",
              "      <th>Sub Category Name</th>\n",
              "      <th>Currency</th>\n",
              "      <th>Budget</th>\n",
              "      <th>Location</th>\n",
              "      <th>Freelancer Preferred From</th>\n",
              "      <th>Type</th>\n",
              "      <th>Date Posted</th>\n",
              "      <th>Description</th>\n",
              "      <th>Duration</th>\n",
              "      <th>Client Registration Date</th>\n",
              "      <th>Client City</th>\n",
              "      <th>Client Country</th>\n",
              "      <th>Client Currency</th>\n",
              "      <th>Client Job Title</th>\n",
              "    </tr>\n",
              "  </thead>\n",
              "  <tbody>\n",
              "    <tr>\n",
              "      <th>0</th>\n",
              "      <td>Banner images for web desgin websites</td>\n",
              "      <td>Design</td>\n",
              "      <td>Entry ($)</td>\n",
              "      <td>Graphic Design</td>\n",
              "      <td>EUR</td>\n",
              "      <td>60.0</td>\n",
              "      <td>remote</td>\n",
              "      <td>ALL</td>\n",
              "      <td>fixed_price</td>\n",
              "      <td>2023-04-29 18:06:39</td>\n",
              "      <td>We are looking to improve the banner images on...</td>\n",
              "      <td>NaN</td>\n",
              "      <td>2010-11-03</td>\n",
              "      <td>Dublin</td>\n",
              "      <td>Ireland</td>\n",
              "      <td>EUR</td>\n",
              "      <td>PPC Management</td>\n",
              "    </tr>\n",
              "    <tr>\n",
              "      <th>1</th>\n",
              "      <td>Make my picture a solid silhouette</td>\n",
              "      <td>Video, Photo &amp; Image</td>\n",
              "      <td>Entry ($)</td>\n",
              "      <td>Image Editing</td>\n",
              "      <td>GBP</td>\n",
              "      <td>20.0</td>\n",
              "      <td>remote</td>\n",
              "      <td>ALL</td>\n",
              "      <td>fixed_price</td>\n",
              "      <td>2023-04-29 17:40:28</td>\n",
              "      <td>Hello \\n\\nI need a quick designer to make 4 pi...</td>\n",
              "      <td>NaN</td>\n",
              "      <td>2017-02-21</td>\n",
              "      <td>London</td>\n",
              "      <td>United Kingdom</td>\n",
              "      <td>GBP</td>\n",
              "      <td>Office manager</td>\n",
              "    </tr>\n",
              "    <tr>\n",
              "      <th>2</th>\n",
              "      <td>Bookkeeper needed</td>\n",
              "      <td>Business</td>\n",
              "      <td>Entry ($)</td>\n",
              "      <td>Finance &amp; Accounting</td>\n",
              "      <td>GBP</td>\n",
              "      <td>12.0</td>\n",
              "      <td>remote</td>\n",
              "      <td>ALL</td>\n",
              "      <td>fixed_price</td>\n",
              "      <td>2023-04-29 17:40:06</td>\n",
              "      <td>Hi - I need a bookkeeper to assist with bookke...</td>\n",
              "      <td>NaN</td>\n",
              "      <td>2023-04-09</td>\n",
              "      <td>London</td>\n",
              "      <td>United Kingdom</td>\n",
              "      <td>GBP</td>\n",
              "      <td>Paralegal</td>\n",
              "    </tr>\n",
              "    <tr>\n",
              "      <th>3</th>\n",
              "      <td>Accountant needed</td>\n",
              "      <td>Business</td>\n",
              "      <td>Entry ($)</td>\n",
              "      <td>Tax Consulting &amp; Advising</td>\n",
              "      <td>GBP</td>\n",
              "      <td>14.0</td>\n",
              "      <td>remote</td>\n",
              "      <td>ALL</td>\n",
              "      <td>fixed_price</td>\n",
              "      <td>2023-04-29 17:32:01</td>\n",
              "      <td>Hi - I need an accountant to assist me with un...</td>\n",
              "      <td>NaN</td>\n",
              "      <td>2023-04-09</td>\n",
              "      <td>London</td>\n",
              "      <td>United Kingdom</td>\n",
              "      <td>GBP</td>\n",
              "      <td>Paralegal</td>\n",
              "    </tr>\n",
              "    <tr>\n",
              "      <th>4</th>\n",
              "      <td>Guest Post on High DA Website</td>\n",
              "      <td>Digital Marketing</td>\n",
              "      <td>Expert ($$$)</td>\n",
              "      <td>SEO</td>\n",
              "      <td>USD</td>\n",
              "      <td>10000.0</td>\n",
              "      <td>remote</td>\n",
              "      <td>ALL</td>\n",
              "      <td>fixed_price</td>\n",
              "      <td>2023-04-29 17:09:36</td>\n",
              "      <td>Hi, I am currently running a project where I w...</td>\n",
              "      <td>NaN</td>\n",
              "      <td>2016-07-01</td>\n",
              "      <td>Mumbai</td>\n",
              "      <td>India</td>\n",
              "      <td>USD</td>\n",
              "      <td>Guest posts buyer</td>\n",
              "    </tr>\n",
              "  </tbody>\n",
              "</table>\n",
              "</div>\n",
              "    <div class=\"colab-df-buttons\">\n",
              "\n",
              "  <div class=\"colab-df-container\">\n",
              "    <button class=\"colab-df-convert\" onclick=\"convertToInteractive('df-7c9abb40-955c-4854-99fd-dc57e2b11931')\"\n",
              "            title=\"Convert this dataframe to an interactive table.\"\n",
              "            style=\"display:none;\">\n",
              "\n",
              "  <svg xmlns=\"http://www.w3.org/2000/svg\" height=\"24px\" viewBox=\"0 -960 960 960\">\n",
              "    <path d=\"M120-120v-720h720v720H120Zm60-500h600v-160H180v160Zm220 220h160v-160H400v160Zm0 220h160v-160H400v160ZM180-400h160v-160H180v160Zm440 0h160v-160H620v160ZM180-180h160v-160H180v160Zm440 0h160v-160H620v160Z\"/>\n",
              "  </svg>\n",
              "    </button>\n",
              "\n",
              "  <style>\n",
              "    .colab-df-container {\n",
              "      display:flex;\n",
              "      gap: 12px;\n",
              "    }\n",
              "\n",
              "    .colab-df-convert {\n",
              "      background-color: #E8F0FE;\n",
              "      border: none;\n",
              "      border-radius: 50%;\n",
              "      cursor: pointer;\n",
              "      display: none;\n",
              "      fill: #1967D2;\n",
              "      height: 32px;\n",
              "      padding: 0 0 0 0;\n",
              "      width: 32px;\n",
              "    }\n",
              "\n",
              "    .colab-df-convert:hover {\n",
              "      background-color: #E2EBFA;\n",
              "      box-shadow: 0px 1px 2px rgba(60, 64, 67, 0.3), 0px 1px 3px 1px rgba(60, 64, 67, 0.15);\n",
              "      fill: #174EA6;\n",
              "    }\n",
              "\n",
              "    .colab-df-buttons div {\n",
              "      margin-bottom: 4px;\n",
              "    }\n",
              "\n",
              "    [theme=dark] .colab-df-convert {\n",
              "      background-color: #3B4455;\n",
              "      fill: #D2E3FC;\n",
              "    }\n",
              "\n",
              "    [theme=dark] .colab-df-convert:hover {\n",
              "      background-color: #434B5C;\n",
              "      box-shadow: 0px 1px 3px 1px rgba(0, 0, 0, 0.15);\n",
              "      filter: drop-shadow(0px 1px 2px rgba(0, 0, 0, 0.3));\n",
              "      fill: #FFFFFF;\n",
              "    }\n",
              "  </style>\n",
              "\n",
              "    <script>\n",
              "      const buttonEl =\n",
              "        document.querySelector('#df-7c9abb40-955c-4854-99fd-dc57e2b11931 button.colab-df-convert');\n",
              "      buttonEl.style.display =\n",
              "        google.colab.kernel.accessAllowed ? 'block' : 'none';\n",
              "\n",
              "      async function convertToInteractive(key) {\n",
              "        const element = document.querySelector('#df-7c9abb40-955c-4854-99fd-dc57e2b11931');\n",
              "        const dataTable =\n",
              "          await google.colab.kernel.invokeFunction('convertToInteractive',\n",
              "                                                    [key], {});\n",
              "        if (!dataTable) return;\n",
              "\n",
              "        const docLinkHtml = 'Like what you see? Visit the ' +\n",
              "          '<a target=\"_blank\" href=https://colab.research.google.com/notebooks/data_table.ipynb>data table notebook</a>'\n",
              "          + ' to learn more about interactive tables.';\n",
              "        element.innerHTML = '';\n",
              "        dataTable['output_type'] = 'display_data';\n",
              "        await google.colab.output.renderOutput(dataTable, element);\n",
              "        const docLink = document.createElement('div');\n",
              "        docLink.innerHTML = docLinkHtml;\n",
              "        element.appendChild(docLink);\n",
              "      }\n",
              "    </script>\n",
              "  </div>\n",
              "\n",
              "\n",
              "<div id=\"df-9ad3b196-f44b-4ef8-9cf0-ba2c9f4cc8e8\">\n",
              "  <button class=\"colab-df-quickchart\" onclick=\"quickchart('df-9ad3b196-f44b-4ef8-9cf0-ba2c9f4cc8e8')\"\n",
              "            title=\"Suggest charts\"\n",
              "            style=\"display:none;\">\n",
              "\n",
              "<svg xmlns=\"http://www.w3.org/2000/svg\" height=\"24px\"viewBox=\"0 0 24 24\"\n",
              "     width=\"24px\">\n",
              "    <g>\n",
              "        <path d=\"M19 3H5c-1.1 0-2 .9-2 2v14c0 1.1.9 2 2 2h14c1.1 0 2-.9 2-2V5c0-1.1-.9-2-2-2zM9 17H7v-7h2v7zm4 0h-2V7h2v10zm4 0h-2v-4h2v4z\"/>\n",
              "    </g>\n",
              "</svg>\n",
              "  </button>\n",
              "\n",
              "<style>\n",
              "  .colab-df-quickchart {\n",
              "      --bg-color: #E8F0FE;\n",
              "      --fill-color: #1967D2;\n",
              "      --hover-bg-color: #E2EBFA;\n",
              "      --hover-fill-color: #174EA6;\n",
              "      --disabled-fill-color: #AAA;\n",
              "      --disabled-bg-color: #DDD;\n",
              "  }\n",
              "\n",
              "  [theme=dark] .colab-df-quickchart {\n",
              "      --bg-color: #3B4455;\n",
              "      --fill-color: #D2E3FC;\n",
              "      --hover-bg-color: #434B5C;\n",
              "      --hover-fill-color: #FFFFFF;\n",
              "      --disabled-bg-color: #3B4455;\n",
              "      --disabled-fill-color: #666;\n",
              "  }\n",
              "\n",
              "  .colab-df-quickchart {\n",
              "    background-color: var(--bg-color);\n",
              "    border: none;\n",
              "    border-radius: 50%;\n",
              "    cursor: pointer;\n",
              "    display: none;\n",
              "    fill: var(--fill-color);\n",
              "    height: 32px;\n",
              "    padding: 0;\n",
              "    width: 32px;\n",
              "  }\n",
              "\n",
              "  .colab-df-quickchart:hover {\n",
              "    background-color: var(--hover-bg-color);\n",
              "    box-shadow: 0 1px 2px rgba(60, 64, 67, 0.3), 0 1px 3px 1px rgba(60, 64, 67, 0.15);\n",
              "    fill: var(--button-hover-fill-color);\n",
              "  }\n",
              "\n",
              "  .colab-df-quickchart-complete:disabled,\n",
              "  .colab-df-quickchart-complete:disabled:hover {\n",
              "    background-color: var(--disabled-bg-color);\n",
              "    fill: var(--disabled-fill-color);\n",
              "    box-shadow: none;\n",
              "  }\n",
              "\n",
              "  .colab-df-spinner {\n",
              "    border: 2px solid var(--fill-color);\n",
              "    border-color: transparent;\n",
              "    border-bottom-color: var(--fill-color);\n",
              "    animation:\n",
              "      spin 1s steps(1) infinite;\n",
              "  }\n",
              "\n",
              "  @keyframes spin {\n",
              "    0% {\n",
              "      border-color: transparent;\n",
              "      border-bottom-color: var(--fill-color);\n",
              "      border-left-color: var(--fill-color);\n",
              "    }\n",
              "    20% {\n",
              "      border-color: transparent;\n",
              "      border-left-color: var(--fill-color);\n",
              "      border-top-color: var(--fill-color);\n",
              "    }\n",
              "    30% {\n",
              "      border-color: transparent;\n",
              "      border-left-color: var(--fill-color);\n",
              "      border-top-color: var(--fill-color);\n",
              "      border-right-color: var(--fill-color);\n",
              "    }\n",
              "    40% {\n",
              "      border-color: transparent;\n",
              "      border-right-color: var(--fill-color);\n",
              "      border-top-color: var(--fill-color);\n",
              "    }\n",
              "    60% {\n",
              "      border-color: transparent;\n",
              "      border-right-color: var(--fill-color);\n",
              "    }\n",
              "    80% {\n",
              "      border-color: transparent;\n",
              "      border-right-color: var(--fill-color);\n",
              "      border-bottom-color: var(--fill-color);\n",
              "    }\n",
              "    90% {\n",
              "      border-color: transparent;\n",
              "      border-bottom-color: var(--fill-color);\n",
              "    }\n",
              "  }\n",
              "</style>\n",
              "\n",
              "  <script>\n",
              "    async function quickchart(key) {\n",
              "      const quickchartButtonEl =\n",
              "        document.querySelector('#' + key + ' button');\n",
              "      quickchartButtonEl.disabled = true;  // To prevent multiple clicks.\n",
              "      quickchartButtonEl.classList.add('colab-df-spinner');\n",
              "      try {\n",
              "        const charts = await google.colab.kernel.invokeFunction(\n",
              "            'suggestCharts', [key], {});\n",
              "      } catch (error) {\n",
              "        console.error('Error during call to suggestCharts:', error);\n",
              "      }\n",
              "      quickchartButtonEl.classList.remove('colab-df-spinner');\n",
              "      quickchartButtonEl.classList.add('colab-df-quickchart-complete');\n",
              "    }\n",
              "    (() => {\n",
              "      let quickchartButtonEl =\n",
              "        document.querySelector('#df-9ad3b196-f44b-4ef8-9cf0-ba2c9f4cc8e8 button');\n",
              "      quickchartButtonEl.style.display =\n",
              "        google.colab.kernel.accessAllowed ? 'block' : 'none';\n",
              "    })();\n",
              "  </script>\n",
              "</div>\n",
              "    </div>\n",
              "  </div>\n"
            ]
          },
          "metadata": {},
          "execution_count": 31
        }
      ]
    },
    {
      "cell_type": "code",
      "source": [
        "# finding size of dataset\n",
        "df.shape"
      ],
      "metadata": {
        "colab": {
          "base_uri": "https://localhost:8080/"
        },
        "id": "uuiJg3G8TZCa",
        "outputId": "dd00cf76-aed7-4a5a-97e1-397779f0e3d1"
      },
      "execution_count": 3,
      "outputs": [
        {
          "output_type": "execute_result",
          "data": {
            "text/plain": [
              "(12222, 17)"
            ]
          },
          "metadata": {},
          "execution_count": 3
        }
      ]
    },
    {
      "cell_type": "code",
      "source": [
        "# print information about the dataset\n",
        "df.info()"
      ],
      "metadata": {
        "colab": {
          "base_uri": "https://localhost:8080/"
        },
        "id": "ccUGMDXDTc64",
        "outputId": "552cf537-9119-42a4-8f8c-476a6c7e73dd"
      },
      "execution_count": 32,
      "outputs": [
        {
          "output_type": "stream",
          "name": "stdout",
          "text": [
            "<class 'pandas.core.frame.DataFrame'>\n",
            "RangeIndex: 12222 entries, 0 to 12221\n",
            "Data columns (total 17 columns):\n",
            " #   Column                     Non-Null Count  Dtype  \n",
            "---  ------                     --------------  -----  \n",
            " 0   Title                      12222 non-null  object \n",
            " 1   Category Name              12222 non-null  object \n",
            " 2   Experience                 12222 non-null  object \n",
            " 3   Sub Category Name          12222 non-null  object \n",
            " 4   Currency                   12222 non-null  object \n",
            " 5   Budget                     12222 non-null  float64\n",
            " 6   Location                   12222 non-null  object \n",
            " 7   Freelancer Preferred From  12222 non-null  object \n",
            " 8   Type                       12222 non-null  object \n",
            " 9   Date Posted                12222 non-null  object \n",
            " 10  Description                12222 non-null  object \n",
            " 11  Duration                   1602 non-null   object \n",
            " 12  Client Registration Date   12222 non-null  object \n",
            " 13  Client City                12222 non-null  object \n",
            " 14  Client Country             12222 non-null  object \n",
            " 15  Client Currency            12222 non-null  object \n",
            " 16  Client Job Title           4588 non-null   object \n",
            "dtypes: float64(1), object(16)\n",
            "memory usage: 1.6+ MB\n"
          ]
        }
      ]
    },
    {
      "cell_type": "markdown",
      "source": [
        "Checking the missing or null values."
      ],
      "metadata": {
        "id": "Tvho5yTDLlSB"
      }
    },
    {
      "cell_type": "code",
      "source": [
        "#Return the number of missing values in each column\n",
        "df.isna().sum()"
      ],
      "metadata": {
        "colab": {
          "base_uri": "https://localhost:8080/"
        },
        "id": "28obp4wxT1Br",
        "outputId": "d112093e-e1e3-46de-9376-04bcda390a7c"
      },
      "execution_count": 33,
      "outputs": [
        {
          "output_type": "execute_result",
          "data": {
            "text/plain": [
              "Title                            0\n",
              "Category Name                    0\n",
              "Experience                       0\n",
              "Sub Category Name                0\n",
              "Currency                         0\n",
              "Budget                           0\n",
              "Location                         0\n",
              "Freelancer Preferred From        0\n",
              "Type                             0\n",
              "Date Posted                      0\n",
              "Description                      0\n",
              "Duration                     10620\n",
              "Client Registration Date         0\n",
              "Client City                      0\n",
              "Client Country                   0\n",
              "Client Currency                  0\n",
              "Client Job Title              7634\n",
              "dtype: int64"
            ]
          },
          "metadata": {},
          "execution_count": 33
        }
      ]
    },
    {
      "cell_type": "markdown",
      "source": [
        "here are null values in 2 columns i.e. duration and client job title. We will fill these values as not mentioned."
      ],
      "metadata": {
        "id": "C-JIHqwYbsFh"
      }
    },
    {
      "cell_type": "code",
      "source": [
        "# Fill null values\n",
        "df['Duration'].replace(np.nan,'Not mentioned',inplace=True) #fill null values"
      ],
      "metadata": {
        "id": "WJmIxGJpkglB"
      },
      "execution_count": 34,
      "outputs": []
    },
    {
      "cell_type": "code",
      "source": [
        "df['Client Job Title'].replace(np.nan,'Not mentioned',inplace=True) #fill null values"
      ],
      "metadata": {
        "id": "_ml7RqM-kiBt"
      },
      "execution_count": 35,
      "outputs": []
    },
    {
      "cell_type": "code",
      "source": [
        "df.info()"
      ],
      "metadata": {
        "id": "BHRid8f9o0XB",
        "colab": {
          "base_uri": "https://localhost:8080/"
        },
        "outputId": "8c1b51e8-42be-4015-cf69-6673120a05e7"
      },
      "execution_count": 36,
      "outputs": [
        {
          "output_type": "stream",
          "name": "stdout",
          "text": [
            "<class 'pandas.core.frame.DataFrame'>\n",
            "RangeIndex: 12222 entries, 0 to 12221\n",
            "Data columns (total 17 columns):\n",
            " #   Column                     Non-Null Count  Dtype  \n",
            "---  ------                     --------------  -----  \n",
            " 0   Title                      12222 non-null  object \n",
            " 1   Category Name              12222 non-null  object \n",
            " 2   Experience                 12222 non-null  object \n",
            " 3   Sub Category Name          12222 non-null  object \n",
            " 4   Currency                   12222 non-null  object \n",
            " 5   Budget                     12222 non-null  float64\n",
            " 6   Location                   12222 non-null  object \n",
            " 7   Freelancer Preferred From  12222 non-null  object \n",
            " 8   Type                       12222 non-null  object \n",
            " 9   Date Posted                12222 non-null  object \n",
            " 10  Description                12222 non-null  object \n",
            " 11  Duration                   12222 non-null  object \n",
            " 12  Client Registration Date   12222 non-null  object \n",
            " 13  Client City                12222 non-null  object \n",
            " 14  Client Country             12222 non-null  object \n",
            " 15  Client Currency            12222 non-null  object \n",
            " 16  Client Job Title           12222 non-null  object \n",
            "dtypes: float64(1), object(16)\n",
            "memory usage: 1.6+ MB\n"
          ]
        }
      ]
    },
    {
      "cell_type": "code",
      "source": [
        "df.columns"
      ],
      "metadata": {
        "colab": {
          "base_uri": "https://localhost:8080/"
        },
        "id": "gsCHn2C97ID1",
        "outputId": "9cba837b-9867-4a4e-ef7b-1b5b7e29a704"
      },
      "execution_count": 37,
      "outputs": [
        {
          "output_type": "execute_result",
          "data": {
            "text/plain": [
              "Index(['Title', 'Category Name', 'Experience', 'Sub Category Name', 'Currency',\n",
              "       'Budget', 'Location', 'Freelancer Preferred From', 'Type',\n",
              "       'Date Posted', 'Description', 'Duration', 'Client Registration Date',\n",
              "       'Client City', 'Client Country', 'Client Currency', 'Client Job Title'],\n",
              "      dtype='object')"
            ]
          },
          "metadata": {},
          "execution_count": 37
        }
      ]
    },
    {
      "cell_type": "markdown",
      "source": [
        "The Budget is given in 3 types of currencies. so we will convert it into one i.e usd."
      ],
      "metadata": {
        "id": "UXqvB_FvMP0Q"
      }
    },
    {
      "cell_type": "code",
      "source": [
        "df['Currency'].unique()"
      ],
      "metadata": {
        "colab": {
          "base_uri": "https://localhost:8080/"
        },
        "id": "nqcI2SmS7b39",
        "outputId": "9835cd7f-1a02-4941-f463-5dcdcf681f44"
      },
      "execution_count": 39,
      "outputs": [
        {
          "output_type": "execute_result",
          "data": {
            "text/plain": [
              "array(['EUR', 'GBP', 'USD'], dtype=object)"
            ]
          },
          "metadata": {},
          "execution_count": 39
        }
      ]
    },
    {
      "cell_type": "code",
      "source": [
        "def convert_to_usd(data):\n",
        "    conversion = {'EUR': 1.07, 'GBP': 1.24, 'USD': 1}\n",
        "    data['Budget'] = [data.loc[i,'Budget'] * conversion[data.loc[i,'Currency']] for i in data.index]\n",
        "    data.drop(columns=['Currency'] , axis=1, inplace=True)\n",
        "    return data"
      ],
      "metadata": {
        "id": "DWcOpRTSJKx1"
      },
      "execution_count": 38,
      "outputs": []
    },
    {
      "cell_type": "code",
      "source": [
        "df = convert_to_usd(df)\n",
        "df.head()"
      ],
      "metadata": {
        "colab": {
          "base_uri": "https://localhost:8080/",
          "height": 556
        },
        "id": "7FZpEzalJVR_",
        "outputId": "4e0fb64b-e686-4c37-e510-dc395bf8d042"
      },
      "execution_count": 40,
      "outputs": [
        {
          "output_type": "execute_result",
          "data": {
            "text/plain": [
              "                                   Title         Category Name    Experience  \\\n",
              "0  Banner images for web desgin websites                Design     Entry ($)   \n",
              "1    Make my picture a solid silhouette   Video, Photo & Image     Entry ($)   \n",
              "2                      Bookkeeper needed              Business     Entry ($)   \n",
              "3                     Accountant needed               Business     Entry ($)   \n",
              "4          Guest Post on High DA Website     Digital Marketing  Expert ($$$)   \n",
              "\n",
              "           Sub Category Name    Budget Location Freelancer Preferred From  \\\n",
              "0             Graphic Design     64.20   remote                       ALL   \n",
              "1              Image Editing     24.80   remote                       ALL   \n",
              "2       Finance & Accounting     14.88   remote                       ALL   \n",
              "3  Tax Consulting & Advising     17.36   remote                       ALL   \n",
              "4                        SEO  10000.00   remote                       ALL   \n",
              "\n",
              "          Type          Date Posted  \\\n",
              "0  fixed_price  2023-04-29 18:06:39   \n",
              "1  fixed_price  2023-04-29 17:40:28   \n",
              "2  fixed_price  2023-04-29 17:40:06   \n",
              "3  fixed_price  2023-04-29 17:32:01   \n",
              "4  fixed_price  2023-04-29 17:09:36   \n",
              "\n",
              "                                         Description       Duration  \\\n",
              "0  We are looking to improve the banner images on...  Not mentioned   \n",
              "1  Hello \\n\\nI need a quick designer to make 4 pi...  Not mentioned   \n",
              "2  Hi - I need a bookkeeper to assist with bookke...  Not mentioned   \n",
              "3  Hi - I need an accountant to assist me with un...  Not mentioned   \n",
              "4  Hi, I am currently running a project where I w...  Not mentioned   \n",
              "\n",
              "  Client Registration Date Client City  Client Country Client Currency  \\\n",
              "0               2010-11-03      Dublin         Ireland             EUR   \n",
              "1               2017-02-21      London  United Kingdom             GBP   \n",
              "2               2023-04-09      London  United Kingdom             GBP   \n",
              "3               2023-04-09      London  United Kingdom             GBP   \n",
              "4               2016-07-01      Mumbai           India             USD   \n",
              "\n",
              "    Client Job Title  \n",
              "0     PPC Management  \n",
              "1     Office manager  \n",
              "2          Paralegal  \n",
              "3          Paralegal  \n",
              "4  Guest posts buyer  "
            ],
            "text/html": [
              "\n",
              "  <div id=\"df-4d17c2ce-a4d2-49a2-be69-1519c8a2aea1\" class=\"colab-df-container\">\n",
              "    <div>\n",
              "<style scoped>\n",
              "    .dataframe tbody tr th:only-of-type {\n",
              "        vertical-align: middle;\n",
              "    }\n",
              "\n",
              "    .dataframe tbody tr th {\n",
              "        vertical-align: top;\n",
              "    }\n",
              "\n",
              "    .dataframe thead th {\n",
              "        text-align: right;\n",
              "    }\n",
              "</style>\n",
              "<table border=\"1\" class=\"dataframe\">\n",
              "  <thead>\n",
              "    <tr style=\"text-align: right;\">\n",
              "      <th></th>\n",
              "      <th>Title</th>\n",
              "      <th>Category Name</th>\n",
              "      <th>Experience</th>\n",
              "      <th>Sub Category Name</th>\n",
              "      <th>Budget</th>\n",
              "      <th>Location</th>\n",
              "      <th>Freelancer Preferred From</th>\n",
              "      <th>Type</th>\n",
              "      <th>Date Posted</th>\n",
              "      <th>Description</th>\n",
              "      <th>Duration</th>\n",
              "      <th>Client Registration Date</th>\n",
              "      <th>Client City</th>\n",
              "      <th>Client Country</th>\n",
              "      <th>Client Currency</th>\n",
              "      <th>Client Job Title</th>\n",
              "    </tr>\n",
              "  </thead>\n",
              "  <tbody>\n",
              "    <tr>\n",
              "      <th>0</th>\n",
              "      <td>Banner images for web desgin websites</td>\n",
              "      <td>Design</td>\n",
              "      <td>Entry ($)</td>\n",
              "      <td>Graphic Design</td>\n",
              "      <td>64.20</td>\n",
              "      <td>remote</td>\n",
              "      <td>ALL</td>\n",
              "      <td>fixed_price</td>\n",
              "      <td>2023-04-29 18:06:39</td>\n",
              "      <td>We are looking to improve the banner images on...</td>\n",
              "      <td>Not mentioned</td>\n",
              "      <td>2010-11-03</td>\n",
              "      <td>Dublin</td>\n",
              "      <td>Ireland</td>\n",
              "      <td>EUR</td>\n",
              "      <td>PPC Management</td>\n",
              "    </tr>\n",
              "    <tr>\n",
              "      <th>1</th>\n",
              "      <td>Make my picture a solid silhouette</td>\n",
              "      <td>Video, Photo &amp; Image</td>\n",
              "      <td>Entry ($)</td>\n",
              "      <td>Image Editing</td>\n",
              "      <td>24.80</td>\n",
              "      <td>remote</td>\n",
              "      <td>ALL</td>\n",
              "      <td>fixed_price</td>\n",
              "      <td>2023-04-29 17:40:28</td>\n",
              "      <td>Hello \\n\\nI need a quick designer to make 4 pi...</td>\n",
              "      <td>Not mentioned</td>\n",
              "      <td>2017-02-21</td>\n",
              "      <td>London</td>\n",
              "      <td>United Kingdom</td>\n",
              "      <td>GBP</td>\n",
              "      <td>Office manager</td>\n",
              "    </tr>\n",
              "    <tr>\n",
              "      <th>2</th>\n",
              "      <td>Bookkeeper needed</td>\n",
              "      <td>Business</td>\n",
              "      <td>Entry ($)</td>\n",
              "      <td>Finance &amp; Accounting</td>\n",
              "      <td>14.88</td>\n",
              "      <td>remote</td>\n",
              "      <td>ALL</td>\n",
              "      <td>fixed_price</td>\n",
              "      <td>2023-04-29 17:40:06</td>\n",
              "      <td>Hi - I need a bookkeeper to assist with bookke...</td>\n",
              "      <td>Not mentioned</td>\n",
              "      <td>2023-04-09</td>\n",
              "      <td>London</td>\n",
              "      <td>United Kingdom</td>\n",
              "      <td>GBP</td>\n",
              "      <td>Paralegal</td>\n",
              "    </tr>\n",
              "    <tr>\n",
              "      <th>3</th>\n",
              "      <td>Accountant needed</td>\n",
              "      <td>Business</td>\n",
              "      <td>Entry ($)</td>\n",
              "      <td>Tax Consulting &amp; Advising</td>\n",
              "      <td>17.36</td>\n",
              "      <td>remote</td>\n",
              "      <td>ALL</td>\n",
              "      <td>fixed_price</td>\n",
              "      <td>2023-04-29 17:32:01</td>\n",
              "      <td>Hi - I need an accountant to assist me with un...</td>\n",
              "      <td>Not mentioned</td>\n",
              "      <td>2023-04-09</td>\n",
              "      <td>London</td>\n",
              "      <td>United Kingdom</td>\n",
              "      <td>GBP</td>\n",
              "      <td>Paralegal</td>\n",
              "    </tr>\n",
              "    <tr>\n",
              "      <th>4</th>\n",
              "      <td>Guest Post on High DA Website</td>\n",
              "      <td>Digital Marketing</td>\n",
              "      <td>Expert ($$$)</td>\n",
              "      <td>SEO</td>\n",
              "      <td>10000.00</td>\n",
              "      <td>remote</td>\n",
              "      <td>ALL</td>\n",
              "      <td>fixed_price</td>\n",
              "      <td>2023-04-29 17:09:36</td>\n",
              "      <td>Hi, I am currently running a project where I w...</td>\n",
              "      <td>Not mentioned</td>\n",
              "      <td>2016-07-01</td>\n",
              "      <td>Mumbai</td>\n",
              "      <td>India</td>\n",
              "      <td>USD</td>\n",
              "      <td>Guest posts buyer</td>\n",
              "    </tr>\n",
              "  </tbody>\n",
              "</table>\n",
              "</div>\n",
              "    <div class=\"colab-df-buttons\">\n",
              "\n",
              "  <div class=\"colab-df-container\">\n",
              "    <button class=\"colab-df-convert\" onclick=\"convertToInteractive('df-4d17c2ce-a4d2-49a2-be69-1519c8a2aea1')\"\n",
              "            title=\"Convert this dataframe to an interactive table.\"\n",
              "            style=\"display:none;\">\n",
              "\n",
              "  <svg xmlns=\"http://www.w3.org/2000/svg\" height=\"24px\" viewBox=\"0 -960 960 960\">\n",
              "    <path d=\"M120-120v-720h720v720H120Zm60-500h600v-160H180v160Zm220 220h160v-160H400v160Zm0 220h160v-160H400v160ZM180-400h160v-160H180v160Zm440 0h160v-160H620v160ZM180-180h160v-160H180v160Zm440 0h160v-160H620v160Z\"/>\n",
              "  </svg>\n",
              "    </button>\n",
              "\n",
              "  <style>\n",
              "    .colab-df-container {\n",
              "      display:flex;\n",
              "      gap: 12px;\n",
              "    }\n",
              "\n",
              "    .colab-df-convert {\n",
              "      background-color: #E8F0FE;\n",
              "      border: none;\n",
              "      border-radius: 50%;\n",
              "      cursor: pointer;\n",
              "      display: none;\n",
              "      fill: #1967D2;\n",
              "      height: 32px;\n",
              "      padding: 0 0 0 0;\n",
              "      width: 32px;\n",
              "    }\n",
              "\n",
              "    .colab-df-convert:hover {\n",
              "      background-color: #E2EBFA;\n",
              "      box-shadow: 0px 1px 2px rgba(60, 64, 67, 0.3), 0px 1px 3px 1px rgba(60, 64, 67, 0.15);\n",
              "      fill: #174EA6;\n",
              "    }\n",
              "\n",
              "    .colab-df-buttons div {\n",
              "      margin-bottom: 4px;\n",
              "    }\n",
              "\n",
              "    [theme=dark] .colab-df-convert {\n",
              "      background-color: #3B4455;\n",
              "      fill: #D2E3FC;\n",
              "    }\n",
              "\n",
              "    [theme=dark] .colab-df-convert:hover {\n",
              "      background-color: #434B5C;\n",
              "      box-shadow: 0px 1px 3px 1px rgba(0, 0, 0, 0.15);\n",
              "      filter: drop-shadow(0px 1px 2px rgba(0, 0, 0, 0.3));\n",
              "      fill: #FFFFFF;\n",
              "    }\n",
              "  </style>\n",
              "\n",
              "    <script>\n",
              "      const buttonEl =\n",
              "        document.querySelector('#df-4d17c2ce-a4d2-49a2-be69-1519c8a2aea1 button.colab-df-convert');\n",
              "      buttonEl.style.display =\n",
              "        google.colab.kernel.accessAllowed ? 'block' : 'none';\n",
              "\n",
              "      async function convertToInteractive(key) {\n",
              "        const element = document.querySelector('#df-4d17c2ce-a4d2-49a2-be69-1519c8a2aea1');\n",
              "        const dataTable =\n",
              "          await google.colab.kernel.invokeFunction('convertToInteractive',\n",
              "                                                    [key], {});\n",
              "        if (!dataTable) return;\n",
              "\n",
              "        const docLinkHtml = 'Like what you see? Visit the ' +\n",
              "          '<a target=\"_blank\" href=https://colab.research.google.com/notebooks/data_table.ipynb>data table notebook</a>'\n",
              "          + ' to learn more about interactive tables.';\n",
              "        element.innerHTML = '';\n",
              "        dataTable['output_type'] = 'display_data';\n",
              "        await google.colab.output.renderOutput(dataTable, element);\n",
              "        const docLink = document.createElement('div');\n",
              "        docLink.innerHTML = docLinkHtml;\n",
              "        element.appendChild(docLink);\n",
              "      }\n",
              "    </script>\n",
              "  </div>\n",
              "\n",
              "\n",
              "<div id=\"df-d1d9d4bc-87c1-4a27-bc23-74afc1c2d733\">\n",
              "  <button class=\"colab-df-quickchart\" onclick=\"quickchart('df-d1d9d4bc-87c1-4a27-bc23-74afc1c2d733')\"\n",
              "            title=\"Suggest charts\"\n",
              "            style=\"display:none;\">\n",
              "\n",
              "<svg xmlns=\"http://www.w3.org/2000/svg\" height=\"24px\"viewBox=\"0 0 24 24\"\n",
              "     width=\"24px\">\n",
              "    <g>\n",
              "        <path d=\"M19 3H5c-1.1 0-2 .9-2 2v14c0 1.1.9 2 2 2h14c1.1 0 2-.9 2-2V5c0-1.1-.9-2-2-2zM9 17H7v-7h2v7zm4 0h-2V7h2v10zm4 0h-2v-4h2v4z\"/>\n",
              "    </g>\n",
              "</svg>\n",
              "  </button>\n",
              "\n",
              "<style>\n",
              "  .colab-df-quickchart {\n",
              "      --bg-color: #E8F0FE;\n",
              "      --fill-color: #1967D2;\n",
              "      --hover-bg-color: #E2EBFA;\n",
              "      --hover-fill-color: #174EA6;\n",
              "      --disabled-fill-color: #AAA;\n",
              "      --disabled-bg-color: #DDD;\n",
              "  }\n",
              "\n",
              "  [theme=dark] .colab-df-quickchart {\n",
              "      --bg-color: #3B4455;\n",
              "      --fill-color: #D2E3FC;\n",
              "      --hover-bg-color: #434B5C;\n",
              "      --hover-fill-color: #FFFFFF;\n",
              "      --disabled-bg-color: #3B4455;\n",
              "      --disabled-fill-color: #666;\n",
              "  }\n",
              "\n",
              "  .colab-df-quickchart {\n",
              "    background-color: var(--bg-color);\n",
              "    border: none;\n",
              "    border-radius: 50%;\n",
              "    cursor: pointer;\n",
              "    display: none;\n",
              "    fill: var(--fill-color);\n",
              "    height: 32px;\n",
              "    padding: 0;\n",
              "    width: 32px;\n",
              "  }\n",
              "\n",
              "  .colab-df-quickchart:hover {\n",
              "    background-color: var(--hover-bg-color);\n",
              "    box-shadow: 0 1px 2px rgba(60, 64, 67, 0.3), 0 1px 3px 1px rgba(60, 64, 67, 0.15);\n",
              "    fill: var(--button-hover-fill-color);\n",
              "  }\n",
              "\n",
              "  .colab-df-quickchart-complete:disabled,\n",
              "  .colab-df-quickchart-complete:disabled:hover {\n",
              "    background-color: var(--disabled-bg-color);\n",
              "    fill: var(--disabled-fill-color);\n",
              "    box-shadow: none;\n",
              "  }\n",
              "\n",
              "  .colab-df-spinner {\n",
              "    border: 2px solid var(--fill-color);\n",
              "    border-color: transparent;\n",
              "    border-bottom-color: var(--fill-color);\n",
              "    animation:\n",
              "      spin 1s steps(1) infinite;\n",
              "  }\n",
              "\n",
              "  @keyframes spin {\n",
              "    0% {\n",
              "      border-color: transparent;\n",
              "      border-bottom-color: var(--fill-color);\n",
              "      border-left-color: var(--fill-color);\n",
              "    }\n",
              "    20% {\n",
              "      border-color: transparent;\n",
              "      border-left-color: var(--fill-color);\n",
              "      border-top-color: var(--fill-color);\n",
              "    }\n",
              "    30% {\n",
              "      border-color: transparent;\n",
              "      border-left-color: var(--fill-color);\n",
              "      border-top-color: var(--fill-color);\n",
              "      border-right-color: var(--fill-color);\n",
              "    }\n",
              "    40% {\n",
              "      border-color: transparent;\n",
              "      border-right-color: var(--fill-color);\n",
              "      border-top-color: var(--fill-color);\n",
              "    }\n",
              "    60% {\n",
              "      border-color: transparent;\n",
              "      border-right-color: var(--fill-color);\n",
              "    }\n",
              "    80% {\n",
              "      border-color: transparent;\n",
              "      border-right-color: var(--fill-color);\n",
              "      border-bottom-color: var(--fill-color);\n",
              "    }\n",
              "    90% {\n",
              "      border-color: transparent;\n",
              "      border-bottom-color: var(--fill-color);\n",
              "    }\n",
              "  }\n",
              "</style>\n",
              "\n",
              "  <script>\n",
              "    async function quickchart(key) {\n",
              "      const quickchartButtonEl =\n",
              "        document.querySelector('#' + key + ' button');\n",
              "      quickchartButtonEl.disabled = true;  // To prevent multiple clicks.\n",
              "      quickchartButtonEl.classList.add('colab-df-spinner');\n",
              "      try {\n",
              "        const charts = await google.colab.kernel.invokeFunction(\n",
              "            'suggestCharts', [key], {});\n",
              "      } catch (error) {\n",
              "        console.error('Error during call to suggestCharts:', error);\n",
              "      }\n",
              "      quickchartButtonEl.classList.remove('colab-df-spinner');\n",
              "      quickchartButtonEl.classList.add('colab-df-quickchart-complete');\n",
              "    }\n",
              "    (() => {\n",
              "      let quickchartButtonEl =\n",
              "        document.querySelector('#df-d1d9d4bc-87c1-4a27-bc23-74afc1c2d733 button');\n",
              "      quickchartButtonEl.style.display =\n",
              "        google.colab.kernel.accessAllowed ? 'block' : 'none';\n",
              "    })();\n",
              "  </script>\n",
              "</div>\n",
              "    </div>\n",
              "  </div>\n"
            ]
          },
          "metadata": {},
          "execution_count": 40
        }
      ]
    },
    {
      "cell_type": "markdown",
      "source": [
        "**Visualizations**"
      ],
      "metadata": {
        "id": "ahOXyNw7h90T"
      }
    },
    {
      "cell_type": "markdown",
      "source": [
        "**1.Categories of jobs available on freelance platform.**"
      ],
      "metadata": {
        "id": "GytzJqOdfyKV"
      }
    },
    {
      "cell_type": "code",
      "source": [
        "# Calculate value counts and percentages for 'Category Name'\n",
        "category_counts = df['Category Name'].value_counts()\n",
        "category_percentages = df['Category Name'].value_counts(normalize=True) * 100\n",
        "\n",
        "plt.figure(figsize=(10, 6))\n",
        "sns.countplot(y='Category Name', data=df, order=category_counts.index)\n",
        "plt.title('Distribution of Job Categories')\n",
        "plt.xlabel('Number of Jobs')\n",
        "plt.ylabel('Category Name')\n",
        "\n",
        "# Show counts and percentages on the plot\n",
        "for i, count in enumerate(category_counts):\n",
        "    plt.text(count + 5, i, f'{count} ({category_percentages[i]:.1f}%)', va='center')\n",
        "\n",
        "plt.show()"
      ],
      "metadata": {
        "colab": {
          "base_uri": "https://localhost:8080/",
          "height": 523
        },
        "id": "wcPDdW-oLDMk",
        "outputId": "836074d8-ea26-4d36-b9af-9fea26383c2e"
      },
      "execution_count": 41,
      "outputs": [
        {
          "output_type": "display_data",
          "data": {
            "text/plain": [
              "<Figure size 1000x600 with 1 Axes>"
            ],
            "image/png": "[encoded data removed]"
          },
          "metadata": {}
        }
      ]
    },
    {
      "cell_type": "markdown",
      "source": [
        "**2. The top-10 jobs sub-categories on freelance platfrom**."
      ],
      "metadata": {
        "id": "4xkDGGjtjNme"
      }
    },
    {
      "cell_type": "code",
      "source": [
        "plt.figure(figsize = (12,8))\n",
        "sns.countplot(y='Sub Category Name',order = df['Sub Category Name'].value_counts().index[0:10],data = df,palette='icefire')\n",
        "plt.title('Top 10 Sub Category of jobs')"
      ],
      "metadata": {
        "colab": {
          "base_uri": "https://localhost:8080/",
          "height": 639
        },
        "id": "FqtraWKmjPOT",
        "outputId": "a48755ce-e263-40be-cf7e-018d0e0977ad"
      },
      "execution_count": 42,
      "outputs": [
        {
          "output_type": "execute_result",
          "data": {
            "text/plain": [
              "Text(0.5, 1.0, 'Top 10 Sub Category of jobs')"
            ]
          },
          "metadata": {},
          "execution_count": 42
        },
        {
          "output_type": "display_data",
          "data": {
            "text/plain": [
              "<Figure size 1200x800 with 1 Axes>"
            ],
            "image/png": "[encoded data removed]"
          },
          "metadata": {}
        }
      ]
    },
    {
      "cell_type": "markdown",
      "source": [
        "**3.Budget cost for each job category.**"
      ],
      "metadata": {
        "id": "zXcqEI9uja8y"
      }
    },
    {
      "cell_type": "code",
      "source": [
        "categories = df.groupby(['Category Name'])['Budget'].sum().reset_index()\n",
        "fig = px.bar(categories,x='Category Name',y='Budget',title='Budget for Each Category',\n",
        "                color=\"Category Name\",height = 700)\n",
        "fig.show()"
      ],
      "metadata": {
        "colab": {
          "base_uri": "https://localhost:8080/",
          "height": 717
        },
        "id": "kjhseNR_jcuL",
        "outputId": "3a6a2a24-3af3-4007-ef0b-17270c722a5a"
      },
      "execution_count": 15,
      "outputs": [
        {
          "output_type": "display_data",
          "data": {
            "text/html": [
              "<html>\n",
              "<head><meta charset=\"utf-8\" /></head>\n",
              "<body>\n",
              "    <div>            <script src=\"https://cdnjs.cloudflare.com/ajax/libs/mathjax/2.7.5/MathJax.js?config=TeX-AMS-MML_SVG\"></script><script type=\"text/javascript\">if (window.MathJax && window.MathJax.Hub && window.MathJax.Hub.Config) {window.MathJax.Hub.Config({SVG: {font: \"STIX-Web\"}});}</script>                <script type=\"text/javascript\">window.PlotlyConfig = {MathJaxConfig: 'local'};</script>\n",
              "        <script charset=\"utf-8\" src=\"https://cdn.plot.ly/plotly-2.24.1.min.js\"></script>                <div id=\"4e1f2f96-95bb-40fb-857d-e353294c2634\" class=\"plotly-graph-div\" style=\"height:700px; width:100%;\"></div>            <script type=\"text/javascript\">                                    window.PLOTLYENV=window.PLOTLYENV || {};                                    if (document.getElementById(\"4e1f2f96-95bb-40fb-857d-e353294c2634\")) {                    Plotly.newPlot(                        \"4e1f2f96-95bb-40fb-857d-e353294c2634\",                        [{\"alignmentgroup\":\"True\",\"hovertemplate\":\"Category Name=%{x}\\u003cbr\\u003eBudget=%{y}\\u003cextra\\u003e\\u003c\\u002fextra\\u003e\",\"legendgroup\":\"Business\",\"marker\":{\"color\":\"#636efa\",\"pattern\":{\"shape\":\"\"}},\"name\":\"Business\",\"offsetgroup\":\"Business\",\"orientation\":\"v\",\"showlegend\":true,\"textposition\":\"auto\",\"x\":[\"Business\"],\"xaxis\":\"x\",\"y\":[312628.89],\"yaxis\":\"y\",\"type\":\"bar\"},{\"alignmentgroup\":\"True\",\"hovertemplate\":\"Category Name=%{x}\\u003cbr\\u003eBudget=%{y}\\u003cextra\\u003e\\u003c\\u002fextra\\u003e\",\"legendgroup\":\"Design\",\"marker\":{\"color\":\"#EF553B\",\"pattern\":{\"shape\":\"\"}},\"name\":\"Design\",\"offsetgroup\":\"Design\",\"orientation\":\"v\",\"showlegend\":true,\"textposition\":\"auto\",\"x\":[\"Design\"],\"xaxis\":\"x\",\"y\":[705071.42],\"yaxis\":\"y\",\"type\":\"bar\"},{\"alignmentgroup\":\"True\",\"hovertemplate\":\"Category Name=%{x}\\u003cbr\\u003eBudget=%{y}\\u003cextra\\u003e\\u003c\\u002fextra\\u003e\",\"legendgroup\":\"Digital Marketing\",\"marker\":{\"color\":\"#00cc96\",\"pattern\":{\"shape\":\"\"}},\"name\":\"Digital Marketing\",\"offsetgroup\":\"Digital Marketing\",\"orientation\":\"v\",\"showlegend\":true,\"textposition\":\"auto\",\"x\":[\"Digital Marketing\"],\"xaxis\":\"x\",\"y\":[308161.83],\"yaxis\":\"y\",\"type\":\"bar\"},{\"alignmentgroup\":\"True\",\"hovertemplate\":\"Category Name=%{x}\\u003cbr\\u003eBudget=%{y}\\u003cextra\\u003e\\u003c\\u002fextra\\u003e\",\"legendgroup\":\"Marketing, Branding & Sales\",\"marker\":{\"color\":\"#ab63fa\",\"pattern\":{\"shape\":\"\"}},\"name\":\"Marketing, Branding & Sales\",\"offsetgroup\":\"Marketing, Branding & Sales\",\"orientation\":\"v\",\"showlegend\":true,\"textposition\":\"auto\",\"x\":[\"Marketing, Branding & Sales\"],\"xaxis\":\"x\",\"y\":[132460.29],\"yaxis\":\"y\",\"type\":\"bar\"},{\"alignmentgroup\":\"True\",\"hovertemplate\":\"Category Name=%{x}\\u003cbr\\u003eBudget=%{y}\\u003cextra\\u003e\\u003c\\u002fextra\\u003e\",\"legendgroup\":\"Music & Audio\",\"marker\":{\"color\":\"#FFA15A\",\"pattern\":{\"shape\":\"\"}},\"name\":\"Music & Audio\",\"offsetgroup\":\"Music & Audio\",\"orientation\":\"v\",\"showlegend\":true,\"textposition\":\"auto\",\"x\":[\"Music & Audio\"],\"xaxis\":\"x\",\"y\":[43682.29],\"yaxis\":\"y\",\"type\":\"bar\"},{\"alignmentgroup\":\"True\",\"hovertemplate\":\"Category Name=%{x}\\u003cbr\\u003eBudget=%{y}\\u003cextra\\u003e\\u003c\\u002fextra\\u003e\",\"legendgroup\":\"Social Media\",\"marker\":{\"color\":\"#19d3f3\",\"pattern\":{\"shape\":\"\"}},\"name\":\"Social Media\",\"offsetgroup\":\"Social Media\",\"orientation\":\"v\",\"showlegend\":true,\"textposition\":\"auto\",\"x\":[\"Social Media\"],\"xaxis\":\"x\",\"y\":[91636.64],\"yaxis\":\"y\",\"type\":\"bar\"},{\"alignmentgroup\":\"True\",\"hovertemplate\":\"Category Name=%{x}\\u003cbr\\u003eBudget=%{y}\\u003cextra\\u003e\\u003c\\u002fextra\\u003e\",\"legendgroup\":\"Technology & Programming\",\"marker\":{\"color\":\"#FF6692\",\"pattern\":{\"shape\":\"\"}},\"name\":\"Technology & Programming\",\"offsetgroup\":\"Technology & Programming\",\"orientation\":\"v\",\"showlegend\":true,\"textposition\":\"auto\",\"x\":[\"Technology & Programming\"],\"xaxis\":\"x\",\"y\":[1095933.76],\"yaxis\":\"y\",\"type\":\"bar\"},{\"alignmentgroup\":\"True\",\"hovertemplate\":\"Category Name=%{x}\\u003cbr\\u003eBudget=%{y}\\u003cextra\\u003e\\u003c\\u002fextra\\u003e\",\"legendgroup\":\"Video, Photo & Image\",\"marker\":{\"color\":\"#B6E880\",\"pattern\":{\"shape\":\"\"}},\"name\":\"Video, Photo & Image\",\"offsetgroup\":\"Video, Photo & Image\",\"orientation\":\"v\",\"showlegend\":true,\"textposition\":\"auto\",\"x\":[\"Video, Photo & Image\"],\"xaxis\":\"x\",\"y\":[270634.38],\"yaxis\":\"y\",\"type\":\"bar\"},{\"alignmentgroup\":\"True\",\"hovertemplate\":\"Category Name=%{x}\\u003cbr\\u003eBudget=%{y}\\u003cextra\\u003e\\u003c\\u002fextra\\u003e\",\"legendgroup\":\"Writing & Translation\",\"marker\":{\"color\":\"#FF97FF\",\"pattern\":{\"shape\":\"\"}},\"name\":\"Writing & Translation\",\"offsetgroup\":\"Writing & Translation\",\"orientation\":\"v\",\"showlegend\":true,\"textposition\":\"auto\",\"x\":[\"Writing & Translation\"],\"xaxis\":\"x\",\"y\":[288529.72],\"yaxis\":\"y\",\"type\":\"bar\"}],                        {\"template\":{\"data\":{\"histogram2dcontour\":[{\"type\":\"histogram2dcontour\",\"colorbar\":{\"outlinewidth\":0,\"ticks\":\"\"},\"colorscale\":[[0.0,\"#0d0887\"],[0.1111111111111111,\"#46039f\"],[0.2222222222222222,\"#7201a8\"],[0.3333333333333333,\"#9c179e\"],[0.4444444444444444,\"#bd3786\"],[0.5555555555555556,\"#d8576b\"],[0.6666666666666666,\"#ed7953\"],[0.7777777777777778,\"#fb9f3a\"],[0.8888888888888888,\"#fdca26\"],[1.0,\"#f0f921\"]]}],\"choropleth\":[{\"type\":\"choropleth\",\"colorbar\":{\"outlinewidth\":0,\"ticks\":\"\"}}],\"histogram2d\":[{\"type\":\"histogram2d\",\"colorbar\":{\"outlinewidth\":0,\"ticks\":\"\"},\"colorscale\":[[0.0,\"#0d0887\"],[0.1111111111111111,\"#46039f\"],[0.2222222222222222,\"#7201a8\"],[0.3333333333333333,\"#9c179e\"],[0.4444444444444444,\"#bd3786\"],[0.5555555555555556,\"#d8576b\"],[0.6666666666666666,\"#ed7953\"],[0.7777777777777778,\"#fb9f3a\"],[0.8888888888888888,\"#fdca26\"],[1.0,\"#f0f921\"]]}],\"heatmap\":[{\"type\":\"heatmap\",\"colorbar\":{\"outlinewidth\":0,\"ticks\":\"\"},\"colorscale\":[[0.0,\"#0d0887\"],[0.1111111111111111,\"#46039f\"],[0.2222222222222222,\"#7201a8\"],[0.3333333333333333,\"#9c179e\"],[0.4444444444444444,\"#bd3786\"],[0.5555555555555556,\"#d8576b\"],[0.6666666666666666,\"#ed7953\"],[0.7777777777777778,\"#fb9f3a\"],[0.8888888888888888,\"#fdca26\"],[1.0,\"#f0f921\"]]}],\"heatmapgl\":[{\"type\":\"heatmapgl\",\"colorbar\":{\"outlinewidth\":0,\"ticks\":\"\"},\"colorscale\":[[0.0,\"#0d0887\"],[0.1111111111111111,\"#46039f\"],[0.2222222222222222,\"#7201a8\"],[0.3333333333333333,\"#9c179e\"],[0.4444444444444444,\"#bd3786\"],[0.5555555555555556,\"#d8576b\"],[0.6666666666666666,\"#ed7953\"],[0.7777777777777778,\"#fb9f3a\"],[0.8888888888888888,\"#fdca26\"],[1.0,\"#f0f921\"]]}],\"contourcarpet\":[{\"type\":\"contourcarpet\",\"colorbar\":{\"outlinewidth\":0,\"ticks\":\"\"}}],\"contour\":[{\"type\":\"contour\",\"colorbar\":{\"outlinewidth\":0,\"ticks\":\"\"},\"colorscale\":[[0.0,\"#0d0887\"],[0.1111111111111111,\"#46039f\"],[0.2222222222222222,\"#7201a8\"],[0.3333333333333333,\"#9c179e\"],[0.4444444444444444,\"#bd3786\"],[0.5555555555555556,\"#d8576b\"],[0.6666666666666666,\"#ed7953\"],[0.7777777777777778,\"#fb9f3a\"],[0.8888888888888888,\"#fdca26\"],[1.0,\"#f0f921\"]]}],\"surface\":[{\"type\":\"surface\",\"colorbar\":{\"outlinewidth\":0,\"ticks\":\"\"},\"colorscale\":[[0.0,\"#0d0887\"],[0.1111111111111111,\"#46039f\"],[0.2222222222222222,\"#7201a8\"],[0.3333333333333333,\"#9c179e\"],[0.4444444444444444,\"#bd3786\"],[0.5555555555555556,\"#d8576b\"],[0.6666666666666666,\"#ed7953\"],[0.7777777777777778,\"#fb9f3a\"],[0.8888888888888888,\"#fdca26\"],[1.0,\"#f0f921\"]]}],\"mesh3d\":[{\"type\":\"mesh3d\",\"colorbar\":{\"outlinewidth\":0,\"ticks\":\"\"}}],\"scatter\":[{\"fillpattern\":{\"fillmode\":\"overlay\",\"size\":10,\"solidity\":0.2},\"type\":\"scatter\"}],\"parcoords\":[{\"type\":\"parcoords\",\"line\":{\"colorbar\":{\"outlinewidth\":0,\"ticks\":\"\"}}}],\"scatterpolargl\":[{\"type\":\"scatterpolargl\",\"marker\":{\"colorbar\":{\"outlinewidth\":0,\"ticks\":\"\"}}}],\"bar\":[{\"error_x\":{\"color\":\"#2a3f5f\"},\"error_y\":{\"color\":\"#2a3f5f\"},\"marker\":{\"line\":{\"color\":\"#E5ECF6\",\"width\":0.5},\"pattern\":{\"fillmode\":\"overlay\",\"size\":10,\"solidity\":0.2}},\"type\":\"bar\"}],\"scattergeo\":[{\"type\":\"scattergeo\",\"marker\":{\"colorbar\":{\"outlinewidth\":0,\"ticks\":\"\"}}}],\"scatterpolar\":[{\"type\":\"scatterpolar\",\"marker\":{\"colorbar\":{\"outlinewidth\":0,\"ticks\":\"\"}}}],\"histogram\":[{\"marker\":{\"pattern\":{\"fillmode\":\"overlay\",\"size\":10,\"solidity\":0.2}},\"type\":\"histogram\"}],\"scattergl\":[{\"type\":\"scattergl\",\"marker\":{\"colorbar\":{\"outlinewidth\":0,\"ticks\":\"\"}}}],\"scatter3d\":[{\"type\":\"scatter3d\",\"line\":{\"colorbar\":{\"outlinewidth\":0,\"ticks\":\"\"}},\"marker\":{\"colorbar\":{\"outlinewidth\":0,\"ticks\":\"\"}}}],\"scattermapbox\":[{\"type\":\"scattermapbox\",\"marker\":{\"colorbar\":{\"outlinewidth\":0,\"ticks\":\"\"}}}],\"scatterternary\":[{\"type\":\"scatterternary\",\"marker\":{\"colorbar\":{\"outlinewidth\":0,\"ticks\":\"\"}}}],\"scattercarpet\":[{\"type\":\"scattercarpet\",\"marker\":{\"colorbar\":{\"outlinewidth\":0,\"ticks\":\"\"}}}],\"carpet\":[{\"aaxis\":{\"endlinecolor\":\"#2a3f5f\",\"gridcolor\":\"white\",\"linecolor\":\"white\",\"minorgridcolor\":\"white\",\"startlinecolor\":\"#2a3f5f\"},\"baxis\":{\"endlinecolor\":\"#2a3f5f\",\"gridcolor\":\"white\",\"linecolor\":\"white\",\"minorgridcolor\":\"white\",\"startlinecolor\":\"#2a3f5f\"},\"type\":\"carpet\"}],\"table\":[{\"cells\":{\"fill\":{\"color\":\"#EBF0F8\"},\"line\":{\"color\":\"white\"}},\"header\":{\"fill\":{\"color\":\"#C8D4E3\"},\"line\":{\"color\":\"white\"}},\"type\":\"table\"}],\"barpolar\":[{\"marker\":{\"line\":{\"color\":\"#E5ECF6\",\"width\":0.5},\"pattern\":{\"fillmode\":\"overlay\",\"size\":10,\"solidity\":0.2}},\"type\":\"barpolar\"}],\"pie\":[{\"automargin\":true,\"type\":\"pie\"}]},\"layout\":{\"autotypenumbers\":\"strict\",\"colorway\":[\"#636efa\",\"#EF553B\",\"#00cc96\",\"#ab63fa\",\"#FFA15A\",\"#19d3f3\",\"#FF6692\",\"#B6E880\",\"#FF97FF\",\"#FECB52\"],\"font\":{\"color\":\"#2a3f5f\"},\"hovermode\":\"closest\",\"hoverlabel\":{\"align\":\"left\"},\"paper_bgcolor\":\"white\",\"plot_bgcolor\":\"#E5ECF6\",\"polar\":{\"bgcolor\":\"#E5ECF6\",\"angularaxis\":{\"gridcolor\":\"white\",\"linecolor\":\"white\",\"ticks\":\"\"},\"radialaxis\":{\"gridcolor\":\"white\",\"linecolor\":\"white\",\"ticks\":\"\"}},\"ternary\":{\"bgcolor\":\"#E5ECF6\",\"aaxis\":{\"gridcolor\":\"white\",\"linecolor\":\"white\",\"ticks\":\"\"},\"baxis\":{\"gridcolor\":\"white\",\"linecolor\":\"white\",\"ticks\":\"\"},\"caxis\":{\"gridcolor\":\"white\",\"linecolor\":\"white\",\"ticks\":\"\"}},\"coloraxis\":{\"colorbar\":{\"outlinewidth\":0,\"ticks\":\"\"}},\"colorscale\":{\"sequential\":[[0.0,\"#0d0887\"],[0.1111111111111111,\"#46039f\"],[0.2222222222222222,\"#7201a8\"],[0.3333333333333333,\"#9c179e\"],[0.4444444444444444,\"#bd3786\"],[0.5555555555555556,\"#d8576b\"],[0.6666666666666666,\"#ed7953\"],[0.7777777777777778,\"#fb9f3a\"],[0.8888888888888888,\"#fdca26\"],[1.0,\"#f0f921\"]],\"sequentialminus\":[[0.0,\"#0d0887\"],[0.1111111111111111,\"#46039f\"],[0.2222222222222222,\"#7201a8\"],[0.3333333333333333,\"#9c179e\"],[0.4444444444444444,\"#bd3786\"],[0.5555555555555556,\"#d8576b\"],[0.6666666666666666,\"#ed7953\"],[0.7777777777777778,\"#fb9f3a\"],[0.8888888888888888,\"#fdca26\"],[1.0,\"#f0f921\"]],\"diverging\":[[0,\"#8e0152\"],[0.1,\"#c51b7d\"],[0.2,\"#de77ae\"],[0.3,\"#f1b6da\"],[0.4,\"#fde0ef\"],[0.5,\"#f7f7f7\"],[0.6,\"#e6f5d0\"],[0.7,\"#b8e186\"],[0.8,\"#7fbc41\"],[0.9,\"#4d9221\"],[1,\"#276419\"]]},\"xaxis\":{\"gridcolor\":\"white\",\"linecolor\":\"white\",\"ticks\":\"\",\"title\":{\"standoff\":15},\"zerolinecolor\":\"white\",\"automargin\":true,\"zerolinewidth\":2},\"yaxis\":{\"gridcolor\":\"white\",\"linecolor\":\"white\",\"ticks\":\"\",\"title\":{\"standoff\":15},\"zerolinecolor\":\"white\",\"automargin\":true,\"zerolinewidth\":2},\"scene\":{\"xaxis\":{\"backgroundcolor\":\"#E5ECF6\",\"gridcolor\":\"white\",\"linecolor\":\"white\",\"showbackground\":true,\"ticks\":\"\",\"zerolinecolor\":\"white\",\"gridwidth\":2},\"yaxis\":{\"backgroundcolor\":\"#E5ECF6\",\"gridcolor\":\"white\",\"linecolor\":\"white\",\"showbackground\":true,\"ticks\":\"\",\"zerolinecolor\":\"white\",\"gridwidth\":2},\"zaxis\":{\"backgroundcolor\":\"#E5ECF6\",\"gridcolor\":\"white\",\"linecolor\":\"white\",\"showbackground\":true,\"ticks\":\"\",\"zerolinecolor\":\"white\",\"gridwidth\":2}},\"shapedefaults\":{\"line\":{\"color\":\"#2a3f5f\"}},\"annotationdefaults\":{\"arrowcolor\":\"#2a3f5f\",\"arrowhead\":0,\"arrowwidth\":1},\"geo\":{\"bgcolor\":\"white\",\"landcolor\":\"#E5ECF6\",\"subunitcolor\":\"white\",\"showland\":true,\"showlakes\":true,\"lakecolor\":\"white\"},\"title\":{\"x\":0.05},\"mapbox\":{\"style\":\"light\"}}},\"xaxis\":{\"anchor\":\"y\",\"domain\":[0.0,1.0],\"title\":{\"text\":\"Category Name\"},\"categoryorder\":\"array\",\"categoryarray\":[\"Business\",\"Design\",\"Digital Marketing\",\"Marketing, Branding & Sales\",\"Music & Audio\",\"Social Media\",\"Technology & Programming\",\"Video, Photo & Image\",\"Writing & Translation\"]},\"yaxis\":{\"anchor\":\"x\",\"domain\":[0.0,1.0],\"title\":{\"text\":\"Budget\"}},\"legend\":{\"title\":{\"text\":\"Category Name\"},\"tracegroupgap\":0},\"title\":{\"text\":\"Budget for Each Category\"},\"barmode\":\"relative\",\"height\":700},                        {\"responsive\": true}                    ).then(function(){\n",
              "                            \n",
              "var gd = document.getElementById('4e1f2f96-95bb-40fb-857d-e353294c2634');\n",
              "var x = new MutationObserver(function (mutations, observer) {{\n",
              "        var display = window.getComputedStyle(gd).display;\n",
              "        if (!display || display === 'none') {{\n",
              "            console.log([gd, 'removed!']);\n",
              "            Plotly.purge(gd);\n",
              "            observer.disconnect();\n",
              "        }}\n",
              "}});\n",
              "\n",
              "// Listen for the removal of the full notebook cells\n",
              "var notebookContainer = gd.closest('#notebook-container');\n",
              "if (notebookContainer) {{\n",
              "    x.observe(notebookContainer, {childList: true});\n",
              "}}\n",
              "\n",
              "// Listen for the clearing of the current output cell\n",
              "var outputEl = gd.closest('.output');\n",
              "if (outputEl) {{\n",
              "    x.observe(outputEl, {childList: true});\n",
              "}}\n",
              "\n",
              "                        })                };                            </script>        </div>\n",
              "</body>\n",
              "</html>"
            ]
          },
          "metadata": {}
        }
      ]
    },
    {
      "cell_type": "markdown",
      "source": [
        "**4. Distribution of Experience level for freelancers.**"
      ],
      "metadata": {
        "id": "DLdcg2lHjjNh"
      }
    },
    {
      "cell_type": "code",
      "source": [
        "type_count = list(df['Experience'].value_counts())\n",
        "colors = ['14213D','FCA311']\n",
        "type_ls = list(df['Experience'].value_counts().index)\n",
        "fig = px.pie(values=type_count,names=type_ls)\n",
        "fig.update_layout(title_text='Distribution of Experience level for freelancers', title_x=0.5,height = 600)\n",
        "fig.update_traces(rotation=90,textposition='inside',textinfo='label+percent+value',marker=dict(colors=colors))\n"
      ],
      "metadata": {
        "colab": {
          "base_uri": "https://localhost:8080/",
          "height": 617
        },
        "id": "qBb9W9QejpWs",
        "outputId": "48d16f4e-88a0-4ef9-9068-b32941d3974d"
      },
      "execution_count": 28,
      "outputs": [
        {
          "output_type": "display_data",
          "data": {
            "text/html": [
              "<html>\n",
              "<head><meta charset=\"utf-8\" /></head>\n",
              "<body>\n",
              "    <div>            <script src=\"https://cdnjs.cloudflare.com/ajax/libs/mathjax/2.7.5/MathJax.js?config=TeX-AMS-MML_SVG\"></script><script type=\"text/javascript\">if (window.MathJax && window.MathJax.Hub && window.MathJax.Hub.Config) {window.MathJax.Hub.Config({SVG: {font: \"STIX-Web\"}});}</script>                <script type=\"text/javascript\">window.PlotlyConfig = {MathJaxConfig: 'local'};</script>\n",
              "        <script charset=\"utf-8\" src=\"https://cdn.plot.ly/plotly-2.24.1.min.js\"></script>                <div id=\"c7de7544-b1fb-45c1-bcf9-0fe35cdfff50\" class=\"plotly-graph-div\" style=\"height:600px; width:100%;\"></div>            <script type=\"text/javascript\">                                    window.PLOTLYENV=window.PLOTLYENV || {};                                    if (document.getElementById(\"c7de7544-b1fb-45c1-bcf9-0fe35cdfff50\")) {                    Plotly.newPlot(                        \"c7de7544-b1fb-45c1-bcf9-0fe35cdfff50\",                        [{\"domain\":{\"x\":[0.0,1.0],\"y\":[0.0,1.0]},\"hovertemplate\":\"label=%{label}\\u003cbr\\u003evalue=%{value}\\u003cextra\\u003e\\u003c\\u002fextra\\u003e\",\"labels\":[\"Expert ($$$)\",\"Entry ($)\",\"Intermediate ($$)\"],\"legendgroup\":\"\",\"name\":\"\",\"showlegend\":true,\"values\":[5407,5318,1497],\"type\":\"pie\",\"marker\":{\"colors\":[\"14213D\",\"FCA311\"]},\"rotation\":90,\"textinfo\":\"label+percent+value\",\"textposition\":\"inside\"}],                        {\"template\":{\"data\":{\"histogram2dcontour\":[{\"type\":\"histogram2dcontour\",\"colorbar\":{\"outlinewidth\":0,\"ticks\":\"\"},\"colorscale\":[[0.0,\"#0d0887\"],[0.1111111111111111,\"#46039f\"],[0.2222222222222222,\"#7201a8\"],[0.3333333333333333,\"#9c179e\"],[0.4444444444444444,\"#bd3786\"],[0.5555555555555556,\"#d8576b\"],[0.6666666666666666,\"#ed7953\"],[0.7777777777777778,\"#fb9f3a\"],[0.8888888888888888,\"#fdca26\"],[1.0,\"#f0f921\"]]}],\"choropleth\":[{\"type\":\"choropleth\",\"colorbar\":{\"outlinewidth\":0,\"ticks\":\"\"}}],\"histogram2d\":[{\"type\":\"histogram2d\",\"colorbar\":{\"outlinewidth\":0,\"ticks\":\"\"},\"colorscale\":[[0.0,\"#0d0887\"],[0.1111111111111111,\"#46039f\"],[0.2222222222222222,\"#7201a8\"],[0.3333333333333333,\"#9c179e\"],[0.4444444444444444,\"#bd3786\"],[0.5555555555555556,\"#d8576b\"],[0.6666666666666666,\"#ed7953\"],[0.7777777777777778,\"#fb9f3a\"],[0.8888888888888888,\"#fdca26\"],[1.0,\"#f0f921\"]]}],\"heatmap\":[{\"type\":\"heatmap\",\"colorbar\":{\"outlinewidth\":0,\"ticks\":\"\"},\"colorscale\":[[0.0,\"#0d0887\"],[0.1111111111111111,\"#46039f\"],[0.2222222222222222,\"#7201a8\"],[0.3333333333333333,\"#9c179e\"],[0.4444444444444444,\"#bd3786\"],[0.5555555555555556,\"#d8576b\"],[0.6666666666666666,\"#ed7953\"],[0.7777777777777778,\"#fb9f3a\"],[0.8888888888888888,\"#fdca26\"],[1.0,\"#f0f921\"]]}],\"heatmapgl\":[{\"type\":\"heatmapgl\",\"colorbar\":{\"outlinewidth\":0,\"ticks\":\"\"},\"colorscale\":[[0.0,\"#0d0887\"],[0.1111111111111111,\"#46039f\"],[0.2222222222222222,\"#7201a8\"],[0.3333333333333333,\"#9c179e\"],[0.4444444444444444,\"#bd3786\"],[0.5555555555555556,\"#d8576b\"],[0.6666666666666666,\"#ed7953\"],[0.7777777777777778,\"#fb9f3a\"],[0.8888888888888888,\"#fdca26\"],[1.0,\"#f0f921\"]]}],\"contourcarpet\":[{\"type\":\"contourcarpet\",\"colorbar\":{\"outlinewidth\":0,\"ticks\":\"\"}}],\"contour\":[{\"type\":\"contour\",\"colorbar\":{\"outlinewidth\":0,\"ticks\":\"\"},\"colorscale\":[[0.0,\"#0d0887\"],[0.1111111111111111,\"#46039f\"],[0.2222222222222222,\"#7201a8\"],[0.3333333333333333,\"#9c179e\"],[0.4444444444444444,\"#bd3786\"],[0.5555555555555556,\"#d8576b\"],[0.6666666666666666,\"#ed7953\"],[0.7777777777777778,\"#fb9f3a\"],[0.8888888888888888,\"#fdca26\"],[1.0,\"#f0f921\"]]}],\"surface\":[{\"type\":\"surface\",\"colorbar\":{\"outlinewidth\":0,\"ticks\":\"\"},\"colorscale\":[[0.0,\"#0d0887\"],[0.1111111111111111,\"#46039f\"],[0.2222222222222222,\"#7201a8\"],[0.3333333333333333,\"#9c179e\"],[0.4444444444444444,\"#bd3786\"],[0.5555555555555556,\"#d8576b\"],[0.6666666666666666,\"#ed7953\"],[0.7777777777777778,\"#fb9f3a\"],[0.8888888888888888,\"#fdca26\"],[1.0,\"#f0f921\"]]}],\"mesh3d\":[{\"type\":\"mesh3d\",\"colorbar\":{\"outlinewidth\":0,\"ticks\":\"\"}}],\"scatter\":[{\"fillpattern\":{\"fillmode\":\"overlay\",\"size\":10,\"solidity\":0.2},\"type\":\"scatter\"}],\"parcoords\":[{\"type\":\"parcoords\",\"line\":{\"colorbar\":{\"outlinewidth\":0,\"ticks\":\"\"}}}],\"scatterpolargl\":[{\"type\":\"scatterpolargl\",\"marker\":{\"colorbar\":{\"outlinewidth\":0,\"ticks\":\"\"}}}],\"bar\":[{\"error_x\":{\"color\":\"#2a3f5f\"},\"error_y\":{\"color\":\"#2a3f5f\"},\"marker\":{\"line\":{\"color\":\"#E5ECF6\",\"width\":0.5},\"pattern\":{\"fillmode\":\"overlay\",\"size\":10,\"solidity\":0.2}},\"type\":\"bar\"}],\"scattergeo\":[{\"type\":\"scattergeo\",\"marker\":{\"colorbar\":{\"outlinewidth\":0,\"ticks\":\"\"}}}],\"scatterpolar\":[{\"type\":\"scatterpolar\",\"marker\":{\"colorbar\":{\"outlinewidth\":0,\"ticks\":\"\"}}}],\"histogram\":[{\"marker\":{\"pattern\":{\"fillmode\":\"overlay\",\"size\":10,\"solidity\":0.2}},\"type\":\"histogram\"}],\"scattergl\":[{\"type\":\"scattergl\",\"marker\":{\"colorbar\":{\"outlinewidth\":0,\"ticks\":\"\"}}}],\"scatter3d\":[{\"type\":\"scatter3d\",\"line\":{\"colorbar\":{\"outlinewidth\":0,\"ticks\":\"\"}},\"marker\":{\"colorbar\":{\"outlinewidth\":0,\"ticks\":\"\"}}}],\"scattermapbox\":[{\"type\":\"scattermapbox\",\"marker\":{\"colorbar\":{\"outlinewidth\":0,\"ticks\":\"\"}}}],\"scatterternary\":[{\"type\":\"scatterternary\",\"marker\":{\"colorbar\":{\"outlinewidth\":0,\"ticks\":\"\"}}}],\"scattercarpet\":[{\"type\":\"scattercarpet\",\"marker\":{\"colorbar\":{\"outlinewidth\":0,\"ticks\":\"\"}}}],\"carpet\":[{\"aaxis\":{\"endlinecolor\":\"#2a3f5f\",\"gridcolor\":\"white\",\"linecolor\":\"white\",\"minorgridcolor\":\"white\",\"startlinecolor\":\"#2a3f5f\"},\"baxis\":{\"endlinecolor\":\"#2a3f5f\",\"gridcolor\":\"white\",\"linecolor\":\"white\",\"minorgridcolor\":\"white\",\"startlinecolor\":\"#2a3f5f\"},\"type\":\"carpet\"}],\"table\":[{\"cells\":{\"fill\":{\"color\":\"#EBF0F8\"},\"line\":{\"color\":\"white\"}},\"header\":{\"fill\":{\"color\":\"#C8D4E3\"},\"line\":{\"color\":\"white\"}},\"type\":\"table\"}],\"barpolar\":[{\"marker\":{\"line\":{\"color\":\"#E5ECF6\",\"width\":0.5},\"pattern\":{\"fillmode\":\"overlay\",\"size\":10,\"solidity\":0.2}},\"type\":\"barpolar\"}],\"pie\":[{\"automargin\":true,\"type\":\"pie\"}]},\"layout\":{\"autotypenumbers\":\"strict\",\"colorway\":[\"#636efa\",\"#EF553B\",\"#00cc96\",\"#ab63fa\",\"#FFA15A\",\"#19d3f3\",\"#FF6692\",\"#B6E880\",\"#FF97FF\",\"#FECB52\"],\"font\":{\"color\":\"#2a3f5f\"},\"hovermode\":\"closest\",\"hoverlabel\":{\"align\":\"left\"},\"paper_bgcolor\":\"white\",\"plot_bgcolor\":\"#E5ECF6\",\"polar\":{\"bgcolor\":\"#E5ECF6\",\"angularaxis\":{\"gridcolor\":\"white\",\"linecolor\":\"white\",\"ticks\":\"\"},\"radialaxis\":{\"gridcolor\":\"white\",\"linecolor\":\"white\",\"ticks\":\"\"}},\"ternary\":{\"bgcolor\":\"#E5ECF6\",\"aaxis\":{\"gridcolor\":\"white\",\"linecolor\":\"white\",\"ticks\":\"\"},\"baxis\":{\"gridcolor\":\"white\",\"linecolor\":\"white\",\"ticks\":\"\"},\"caxis\":{\"gridcolor\":\"white\",\"linecolor\":\"white\",\"ticks\":\"\"}},\"coloraxis\":{\"colorbar\":{\"outlinewidth\":0,\"ticks\":\"\"}},\"colorscale\":{\"sequential\":[[0.0,\"#0d0887\"],[0.1111111111111111,\"#46039f\"],[0.2222222222222222,\"#7201a8\"],[0.3333333333333333,\"#9c179e\"],[0.4444444444444444,\"#bd3786\"],[0.5555555555555556,\"#d8576b\"],[0.6666666666666666,\"#ed7953\"],[0.7777777777777778,\"#fb9f3a\"],[0.8888888888888888,\"#fdca26\"],[1.0,\"#f0f921\"]],\"sequentialminus\":[[0.0,\"#0d0887\"],[0.1111111111111111,\"#46039f\"],[0.2222222222222222,\"#7201a8\"],[0.3333333333333333,\"#9c179e\"],[0.4444444444444444,\"#bd3786\"],[0.5555555555555556,\"#d8576b\"],[0.6666666666666666,\"#ed7953\"],[0.7777777777777778,\"#fb9f3a\"],[0.8888888888888888,\"#fdca26\"],[1.0,\"#f0f921\"]],\"diverging\":[[0,\"#8e0152\"],[0.1,\"#c51b7d\"],[0.2,\"#de77ae\"],[0.3,\"#f1b6da\"],[0.4,\"#fde0ef\"],[0.5,\"#f7f7f7\"],[0.6,\"#e6f5d0\"],[0.7,\"#b8e186\"],[0.8,\"#7fbc41\"],[0.9,\"#4d9221\"],[1,\"#276419\"]]},\"xaxis\":{\"gridcolor\":\"white\",\"linecolor\":\"white\",\"ticks\":\"\",\"title\":{\"standoff\":15},\"zerolinecolor\":\"white\",\"automargin\":true,\"zerolinewidth\":2},\"yaxis\":{\"gridcolor\":\"white\",\"linecolor\":\"white\",\"ticks\":\"\",\"title\":{\"standoff\":15},\"zerolinecolor\":\"white\",\"automargin\":true,\"zerolinewidth\":2},\"scene\":{\"xaxis\":{\"backgroundcolor\":\"#E5ECF6\",\"gridcolor\":\"white\",\"linecolor\":\"white\",\"showbackground\":true,\"ticks\":\"\",\"zerolinecolor\":\"white\",\"gridwidth\":2},\"yaxis\":{\"backgroundcolor\":\"#E5ECF6\",\"gridcolor\":\"white\",\"linecolor\":\"white\",\"showbackground\":true,\"ticks\":\"\",\"zerolinecolor\":\"white\",\"gridwidth\":2},\"zaxis\":{\"backgroundcolor\":\"#E5ECF6\",\"gridcolor\":\"white\",\"linecolor\":\"white\",\"showbackground\":true,\"ticks\":\"\",\"zerolinecolor\":\"white\",\"gridwidth\":2}},\"shapedefaults\":{\"line\":{\"color\":\"#2a3f5f\"}},\"annotationdefaults\":{\"arrowcolor\":\"#2a3f5f\",\"arrowhead\":0,\"arrowwidth\":1},\"geo\":{\"bgcolor\":\"white\",\"landcolor\":\"#E5ECF6\",\"subunitcolor\":\"white\",\"showland\":true,\"showlakes\":true,\"lakecolor\":\"white\"},\"title\":{\"x\":0.05},\"mapbox\":{\"style\":\"light\"}}},\"legend\":{\"tracegroupgap\":0},\"margin\":{\"t\":60},\"title\":{\"text\":\"Distribution of Experience level for freelancers\",\"x\":0.5},\"height\":600},                        {\"responsive\": true}                    ).then(function(){\n",
              "                            \n",
              "var gd = document.getElementById('c7de7544-b1fb-45c1-bcf9-0fe35cdfff50');\n",
              "var x = new MutationObserver(function (mutations, observer) {{\n",
              "        var display = window.getComputedStyle(gd).display;\n",
              "        if (!display || display === 'none') {{\n",
              "            console.log([gd, 'removed!']);\n",
              "            Plotly.purge(gd);\n",
              "            observer.disconnect();\n",
              "        }}\n",
              "}});\n",
              "\n",
              "// Listen for the removal of the full notebook cells\n",
              "var notebookContainer = gd.closest('#notebook-container');\n",
              "if (notebookContainer) {{\n",
              "    x.observe(notebookContainer, {childList: true});\n",
              "}}\n",
              "\n",
              "// Listen for the clearing of the current output cell\n",
              "var outputEl = gd.closest('.output');\n",
              "if (outputEl) {{\n",
              "    x.observe(outputEl, {childList: true});\n",
              "}}\n",
              "\n",
              "                        })                };                            </script>        </div>\n",
              "</body>\n",
              "</html>"
            ]
          },
          "metadata": {}
        }
      ]
    },
    {
      "cell_type": "markdown",
      "source": [
        "**5.Distribution of clients across countries.**"
      ],
      "metadata": {
        "id": "vTWZWu_0jwku"
      }
    },
    {
      "cell_type": "code",
      "source": [
        "Client_Country = list(df['Client Country'].unique())\n",
        "Client_Country_count = list(df['Client Country'].value_counts())\n",
        "fig = px.pie(df,values=Client_Country_count,names=Client_Country, hole=0.5,color_discrete_sequence=px.colors.sequential.RdBu)\n",
        "fig.update_layout(title_text='Country wise number of clients ', title_x=0.5)\n",
        "fig.update_traces(textposition='inside',textinfo='label+percent+value')\n",
        "fig.show()"
      ],
      "metadata": {
        "colab": {
          "base_uri": "https://localhost:8080/",
          "height": 542
        },
        "id": "j2wzuTE7j1Yj",
        "outputId": "cb79f2f5-879a-4ee4-e6ae-4f6318b4ef00"
      },
      "execution_count": 17,
      "outputs": [
        {
          "output_type": "display_data",
          "data": {
            "text/html": [
              "<html>\n",
              "<head><meta charset=\"utf-8\" /></head>\n",
              "<body>\n",
              "    <div>            <script src=\"https://cdnjs.cloudflare.com/ajax/libs/mathjax/2.7.5/MathJax.js?config=TeX-AMS-MML_SVG\"></script><script type=\"text/javascript\">if (window.MathJax && window.MathJax.Hub && window.MathJax.Hub.Config) {window.MathJax.Hub.Config({SVG: {font: \"STIX-Web\"}});}</script>                <script type=\"text/javascript\">window.PlotlyConfig = {MathJaxConfig: 'local'};</script>\n",
              "        <script charset=\"utf-8\" src=\"https://cdn.plot.ly/plotly-2.24.1.min.js\"></script>                <div id=\"40ca7c03-3d60-4739-8e84-a50264bbafd8\" class=\"plotly-graph-div\" style=\"height:525px; width:100%;\"></div>            <script type=\"text/javascript\">                                    window.PLOTLYENV=window.PLOTLYENV || {};                                    if (document.getElementById(\"40ca7c03-3d60-4739-8e84-a50264bbafd8\")) {                    Plotly.newPlot(                        \"40ca7c03-3d60-4739-8e84-a50264bbafd8\",                        [{\"domain\":{\"x\":[0.0,1.0],\"y\":[0.0,1.0]},\"hole\":0.5,\"hovertemplate\":\"label=%{label}\\u003cbr\\u003evalue=%{value}\\u003cextra\\u003e\\u003c\\u002fextra\\u003e\",\"labels\":[\"Ireland\",\"United Kingdom\",\"India\",\"United Arab Emirates\",\"Australia\",\"Bangladesh\",\"Hungary\",\"Spain\",\"Germany\",\"Pakistan\",\"Armenia\",\"United States\",\"Netherlands\",\"Italy\",\"France\",\"Belgium\",\"Canada\",\"Thailand\",\"Israel\",\"Colombia\",\"Latvia\",\"Poland\",\"Greece\",\"Hong Kong\",\"Taiwan, Province of China\",\"Croatia\",\"Turkey\",\"Malta\",\"Norway\",\"China\",\"Brazil\",\"Costa Rica\",\"Indonesia\",\"Lithuania\",\"Switzerland\",\"Saudi Arabia\",\"Singapore\",\"Viet Nam\",\"Egypt\",\"Sweden\",\"Venezuela\",\"Finland\",\"Cayman Islands\",\"Nigeria\",\"North Macedonia\",\"New Zealand\",\"Romania\",\"Albania\",\"Estonia\",\"Portugal\",\"Bulgaria\",\"Mexico\",\"Austria\",\"Panama\",\"Kenya\",\"Lebanon\",\"Russian Federation\",\"Philippines\",\"Uganda\",\"Sri Lanka\",\"South Africa\",\"Morocco\",\"Chile\",\"Cyprus\",\"Qatar\",\"Denmark\",\"Serbia\",\"Kuwait\",\"Monaco\",\"Slovakia\",\"Slovenia\",\"Iraq\",\"Cambodia\",\"Luxembourg\",\"Trinidad and Tobago\",\"Guernsey\",\"Dominican Republic\",\"Ukraine\",\"Malaysia\",\"Saint Martin\",\"Maldives\",\"Kosovo\",\"Barbados\",\"Peru\",\"Mauritius\",\"Georgia\",\"Rwanda\",\"Jordan\",\"Belarus\",\"Ghana\",\"French Polynesia\",\"Bahrain\",\"El Salvador\",\"Nepal\",\"Tanzania, United Republic of\",\"Bahamas\",\"Argentina\",\"Bosnia and Herzegovina\",\"Jamaica\",\"Ethiopia\",\"Japan\",\"Cura\\u00e7ao\",\"Bermuda\",\"Moldova, Republic of\",\"Honduras\",\"Saint Lucia\",\"Uruguay\",\"Korea, Republic of\",\"Oman\",\"Fiji\",\"Czech Republic\",\"Algeria\",\"Angola\",\"Bolivia\",\"Reunion\",\"Botswana\",\"Iceland\",\"Guadeloupe\",\"Palestinian Territory, Occupied\",\"South Korea\",\"Cote D'Ivoire\",\"Azerbaijan\",\"Jersey\",\"Uzbekistan\",\"Namibia\",\"Gibraltar\",\"Benin\",\"Somalia\",\"Comoros\",\"Ecuador\",\"Tunisia\",\"Kazakhstan\",\"Zimbabwe\",\"Afghanistan\",\"Antigua and Barbuda\",\"Isle of Man\"],\"legendgroup\":\"\",\"name\":\"\",\"showlegend\":true,\"values\":[8002,1064,333,162,160,148,137,135,112,109,99,98,94,69,63,61,55,53,51,41,40,37,36,36,35,34,32,31,28,28,27,27,27,26,23,23,23,23,22,22,21,21,21,21,21,20,20,18,18,17,16,16,15,15,15,14,13,13,13,13,12,11,10,9,9,8,8,8,7,7,6,6,6,6,6,5,5,5,5,5,5,5,4,4,4,4,3,3,3,3,3,3,3,3,3,2,2,2,2,2,2,2,2,2,2,2,2,2,2,2,2,2,1,1,1,1,1,1,1,1,1,1,1,1,1,1,1,1,1,1,1,1,1,1,1,1],\"type\":\"pie\",\"textinfo\":\"label+percent+value\",\"textposition\":\"inside\"}],                        {\"template\":{\"data\":{\"histogram2dcontour\":[{\"type\":\"histogram2dcontour\",\"colorbar\":{\"outlinewidth\":0,\"ticks\":\"\"},\"colorscale\":[[0.0,\"#0d0887\"],[0.1111111111111111,\"#46039f\"],[0.2222222222222222,\"#7201a8\"],[0.3333333333333333,\"#9c179e\"],[0.4444444444444444,\"#bd3786\"],[0.5555555555555556,\"#d8576b\"],[0.6666666666666666,\"#ed7953\"],[0.7777777777777778,\"#fb9f3a\"],[0.8888888888888888,\"#fdca26\"],[1.0,\"#f0f921\"]]}],\"choropleth\":[{\"type\":\"choropleth\",\"colorbar\":{\"outlinewidth\":0,\"ticks\":\"\"}}],\"histogram2d\":[{\"type\":\"histogram2d\",\"colorbar\":{\"outlinewidth\":0,\"ticks\":\"\"},\"colorscale\":[[0.0,\"#0d0887\"],[0.1111111111111111,\"#46039f\"],[0.2222222222222222,\"#7201a8\"],[0.3333333333333333,\"#9c179e\"],[0.4444444444444444,\"#bd3786\"],[0.5555555555555556,\"#d8576b\"],[0.6666666666666666,\"#ed7953\"],[0.7777777777777778,\"#fb9f3a\"],[0.8888888888888888,\"#fdca26\"],[1.0,\"#f0f921\"]]}],\"heatmap\":[{\"type\":\"heatmap\",\"colorbar\":{\"outlinewidth\":0,\"ticks\":\"\"},\"colorscale\":[[0.0,\"#0d0887\"],[0.1111111111111111,\"#46039f\"],[0.2222222222222222,\"#7201a8\"],[0.3333333333333333,\"#9c179e\"],[0.4444444444444444,\"#bd3786\"],[0.5555555555555556,\"#d8576b\"],[0.6666666666666666,\"#ed7953\"],[0.7777777777777778,\"#fb9f3a\"],[0.8888888888888888,\"#fdca26\"],[1.0,\"#f0f921\"]]}],\"heatmapgl\":[{\"type\":\"heatmapgl\",\"colorbar\":{\"outlinewidth\":0,\"ticks\":\"\"},\"colorscale\":[[0.0,\"#0d0887\"],[0.1111111111111111,\"#46039f\"],[0.2222222222222222,\"#7201a8\"],[0.3333333333333333,\"#9c179e\"],[0.4444444444444444,\"#bd3786\"],[0.5555555555555556,\"#d8576b\"],[0.6666666666666666,\"#ed7953\"],[0.7777777777777778,\"#fb9f3a\"],[0.8888888888888888,\"#fdca26\"],[1.0,\"#f0f921\"]]}],\"contourcarpet\":[{\"type\":\"contourcarpet\",\"colorbar\":{\"outlinewidth\":0,\"ticks\":\"\"}}],\"contour\":[{\"type\":\"contour\",\"colorbar\":{\"outlinewidth\":0,\"ticks\":\"\"},\"colorscale\":[[0.0,\"#0d0887\"],[0.1111111111111111,\"#46039f\"],[0.2222222222222222,\"#7201a8\"],[0.3333333333333333,\"#9c179e\"],[0.4444444444444444,\"#bd3786\"],[0.5555555555555556,\"#d8576b\"],[0.6666666666666666,\"#ed7953\"],[0.7777777777777778,\"#fb9f3a\"],[0.8888888888888888,\"#fdca26\"],[1.0,\"#f0f921\"]]}],\"surface\":[{\"type\":\"surface\",\"colorbar\":{\"outlinewidth\":0,\"ticks\":\"\"},\"colorscale\":[[0.0,\"#0d0887\"],[0.1111111111111111,\"#46039f\"],[0.2222222222222222,\"#7201a8\"],[0.3333333333333333,\"#9c179e\"],[0.4444444444444444,\"#bd3786\"],[0.5555555555555556,\"#d8576b\"],[0.6666666666666666,\"#ed7953\"],[0.7777777777777778,\"#fb9f3a\"],[0.8888888888888888,\"#fdca26\"],[1.0,\"#f0f921\"]]}],\"mesh3d\":[{\"type\":\"mesh3d\",\"colorbar\":{\"outlinewidth\":0,\"ticks\":\"\"}}],\"scatter\":[{\"fillpattern\":{\"fillmode\":\"overlay\",\"size\":10,\"solidity\":0.2},\"type\":\"scatter\"}],\"parcoords\":[{\"type\":\"parcoords\",\"line\":{\"colorbar\":{\"outlinewidth\":0,\"ticks\":\"\"}}}],\"scatterpolargl\":[{\"type\":\"scatterpolargl\",\"marker\":{\"colorbar\":{\"outlinewidth\":0,\"ticks\":\"\"}}}],\"bar\":[{\"error_x\":{\"color\":\"#2a3f5f\"},\"error_y\":{\"color\":\"#2a3f5f\"},\"marker\":{\"line\":{\"color\":\"#E5ECF6\",\"width\":0.5},\"pattern\":{\"fillmode\":\"overlay\",\"size\":10,\"solidity\":0.2}},\"type\":\"bar\"}],\"scattergeo\":[{\"type\":\"scattergeo\",\"marker\":{\"colorbar\":{\"outlinewidth\":0,\"ticks\":\"\"}}}],\"scatterpolar\":[{\"type\":\"scatterpolar\",\"marker\":{\"colorbar\":{\"outlinewidth\":0,\"ticks\":\"\"}}}],\"histogram\":[{\"marker\":{\"pattern\":{\"fillmode\":\"overlay\",\"size\":10,\"solidity\":0.2}},\"type\":\"histogram\"}],\"scattergl\":[{\"type\":\"scattergl\",\"marker\":{\"colorbar\":{\"outlinewidth\":0,\"ticks\":\"\"}}}],\"scatter3d\":[{\"type\":\"scatter3d\",\"line\":{\"colorbar\":{\"outlinewidth\":0,\"ticks\":\"\"}},\"marker\":{\"colorbar\":{\"outlinewidth\":0,\"ticks\":\"\"}}}],\"scattermapbox\":[{\"type\":\"scattermapbox\",\"marker\":{\"colorbar\":{\"outlinewidth\":0,\"ticks\":\"\"}}}],\"scatterternary\":[{\"type\":\"scatterternary\",\"marker\":{\"colorbar\":{\"outlinewidth\":0,\"ticks\":\"\"}}}],\"scattercarpet\":[{\"type\":\"scattercarpet\",\"marker\":{\"colorbar\":{\"outlinewidth\":0,\"ticks\":\"\"}}}],\"carpet\":[{\"aaxis\":{\"endlinecolor\":\"#2a3f5f\",\"gridcolor\":\"white\",\"linecolor\":\"white\",\"minorgridcolor\":\"white\",\"startlinecolor\":\"#2a3f5f\"},\"baxis\":{\"endlinecolor\":\"#2a3f5f\",\"gridcolor\":\"white\",\"linecolor\":\"white\",\"minorgridcolor\":\"white\",\"startlinecolor\":\"#2a3f5f\"},\"type\":\"carpet\"}],\"table\":[{\"cells\":{\"fill\":{\"color\":\"#EBF0F8\"},\"line\":{\"color\":\"white\"}},\"header\":{\"fill\":{\"color\":\"#C8D4E3\"},\"line\":{\"color\":\"white\"}},\"type\":\"table\"}],\"barpolar\":[{\"marker\":{\"line\":{\"color\":\"#E5ECF6\",\"width\":0.5},\"pattern\":{\"fillmode\":\"overlay\",\"size\":10,\"solidity\":0.2}},\"type\":\"barpolar\"}],\"pie\":[{\"automargin\":true,\"type\":\"pie\"}]},\"layout\":{\"autotypenumbers\":\"strict\",\"colorway\":[\"#636efa\",\"#EF553B\",\"#00cc96\",\"#ab63fa\",\"#FFA15A\",\"#19d3f3\",\"#FF6692\",\"#B6E880\",\"#FF97FF\",\"#FECB52\"],\"font\":{\"color\":\"#2a3f5f\"},\"hovermode\":\"closest\",\"hoverlabel\":{\"align\":\"left\"},\"paper_bgcolor\":\"white\",\"plot_bgcolor\":\"#E5ECF6\",\"polar\":{\"bgcolor\":\"#E5ECF6\",\"angularaxis\":{\"gridcolor\":\"white\",\"linecolor\":\"white\",\"ticks\":\"\"},\"radialaxis\":{\"gridcolor\":\"white\",\"linecolor\":\"white\",\"ticks\":\"\"}},\"ternary\":{\"bgcolor\":\"#E5ECF6\",\"aaxis\":{\"gridcolor\":\"white\",\"linecolor\":\"white\",\"ticks\":\"\"},\"baxis\":{\"gridcolor\":\"white\",\"linecolor\":\"white\",\"ticks\":\"\"},\"caxis\":{\"gridcolor\":\"white\",\"linecolor\":\"white\",\"ticks\":\"\"}},\"coloraxis\":{\"colorbar\":{\"outlinewidth\":0,\"ticks\":\"\"}},\"colorscale\":{\"sequential\":[[0.0,\"#0d0887\"],[0.1111111111111111,\"#46039f\"],[0.2222222222222222,\"#7201a8\"],[0.3333333333333333,\"#9c179e\"],[0.4444444444444444,\"#bd3786\"],[0.5555555555555556,\"#d8576b\"],[0.6666666666666666,\"#ed7953\"],[0.7777777777777778,\"#fb9f3a\"],[0.8888888888888888,\"#fdca26\"],[1.0,\"#f0f921\"]],\"sequentialminus\":[[0.0,\"#0d0887\"],[0.1111111111111111,\"#46039f\"],[0.2222222222222222,\"#7201a8\"],[0.3333333333333333,\"#9c179e\"],[0.4444444444444444,\"#bd3786\"],[0.5555555555555556,\"#d8576b\"],[0.6666666666666666,\"#ed7953\"],[0.7777777777777778,\"#fb9f3a\"],[0.8888888888888888,\"#fdca26\"],[1.0,\"#f0f921\"]],\"diverging\":[[0,\"#8e0152\"],[0.1,\"#c51b7d\"],[0.2,\"#de77ae\"],[0.3,\"#f1b6da\"],[0.4,\"#fde0ef\"],[0.5,\"#f7f7f7\"],[0.6,\"#e6f5d0\"],[0.7,\"#b8e186\"],[0.8,\"#7fbc41\"],[0.9,\"#4d9221\"],[1,\"#276419\"]]},\"xaxis\":{\"gridcolor\":\"white\",\"linecolor\":\"white\",\"ticks\":\"\",\"title\":{\"standoff\":15},\"zerolinecolor\":\"white\",\"automargin\":true,\"zerolinewidth\":2},\"yaxis\":{\"gridcolor\":\"white\",\"linecolor\":\"white\",\"ticks\":\"\",\"title\":{\"standoff\":15},\"zerolinecolor\":\"white\",\"automargin\":true,\"zerolinewidth\":2},\"scene\":{\"xaxis\":{\"backgroundcolor\":\"#E5ECF6\",\"gridcolor\":\"white\",\"linecolor\":\"white\",\"showbackground\":true,\"ticks\":\"\",\"zerolinecolor\":\"white\",\"gridwidth\":2},\"yaxis\":{\"backgroundcolor\":\"#E5ECF6\",\"gridcolor\":\"white\",\"linecolor\":\"white\",\"showbackground\":true,\"ticks\":\"\",\"zerolinecolor\":\"white\",\"gridwidth\":2},\"zaxis\":{\"backgroundcolor\":\"#E5ECF6\",\"gridcolor\":\"white\",\"linecolor\":\"white\",\"showbackground\":true,\"ticks\":\"\",\"zerolinecolor\":\"white\",\"gridwidth\":2}},\"shapedefaults\":{\"line\":{\"color\":\"#2a3f5f\"}},\"annotationdefaults\":{\"arrowcolor\":\"#2a3f5f\",\"arrowhead\":0,\"arrowwidth\":1},\"geo\":{\"bgcolor\":\"white\",\"landcolor\":\"#E5ECF6\",\"subunitcolor\":\"white\",\"showland\":true,\"showlakes\":true,\"lakecolor\":\"white\"},\"title\":{\"x\":0.05},\"mapbox\":{\"style\":\"light\"}}},\"legend\":{\"tracegroupgap\":0},\"margin\":{\"t\":60},\"piecolorway\":[\"rgb(103,0,31)\",\"rgb(178,24,43)\",\"rgb(214,96,77)\",\"rgb(244,165,130)\",\"rgb(253,219,199)\",\"rgb(247,247,247)\",\"rgb(209,229,240)\",\"rgb(146,197,222)\",\"rgb(67,147,195)\",\"rgb(33,102,172)\",\"rgb(5,48,97)\"],\"title\":{\"text\":\"Country wise number of clients \",\"x\":0.5}},                        {\"responsive\": true}                    ).then(function(){\n",
              "                            \n",
              "var gd = document.getElementById('40ca7c03-3d60-4739-8e84-a50264bbafd8');\n",
              "var x = new MutationObserver(function (mutations, observer) {{\n",
              "        var display = window.getComputedStyle(gd).display;\n",
              "        if (!display || display === 'none') {{\n",
              "            console.log([gd, 'removed!']);\n",
              "            Plotly.purge(gd);\n",
              "            observer.disconnect();\n",
              "        }}\n",
              "}});\n",
              "\n",
              "// Listen for the removal of the full notebook cells\n",
              "var notebookContainer = gd.closest('#notebook-container');\n",
              "if (notebookContainer) {{\n",
              "    x.observe(notebookContainer, {childList: true});\n",
              "}}\n",
              "\n",
              "// Listen for the clearing of the current output cell\n",
              "var outputEl = gd.closest('.output');\n",
              "if (outputEl) {{\n",
              "    x.observe(outputEl, {childList: true});\n",
              "}}\n",
              "\n",
              "                        })                };                            </script>        </div>\n",
              "</body>\n",
              "</html>"
            ]
          },
          "metadata": {}
        }
      ]
    },
    {
      "cell_type": "markdown",
      "source": [
        "**6.How many number of clients registered every year?**"
      ],
      "metadata": {
        "id": "ZPYKaobPj6kf"
      }
    },
    {
      "cell_type": "code",
      "source": [
        " #Convert 'Client Registration Date' column to datetime format\n",
        "df['Client Registration Date'] = pd.to_datetime(df['Client Registration Date'])\n",
        "\n",
        "# Extract year from the 'Client Registration Date' column\n",
        "df['Registration Year'] = df['Client Registration Date'].dt.year\n",
        "\n",
        "# Count the number of clients registered each year\n",
        "clients_registered_per_year = df['Registration Year'].value_counts().sort_index()\n",
        "\n",
        "print(\"Number of clients registered each year:\")\n",
        "print(clients_registered_per_year)"
      ],
      "metadata": {
        "colab": {
          "base_uri": "https://localhost:8080/"
        },
        "id": "1bK_6aD3PPkr",
        "outputId": "2726d301-c3fb-41b7-cd68-f344dfc51405"
      },
      "execution_count": 18,
      "outputs": [
        {
          "output_type": "stream",
          "name": "stdout",
          "text": [
            "Number of clients registered each year:\n",
            "2007       2\n",
            "2008      58\n",
            "2009      76\n",
            "2010     277\n",
            "2011     270\n",
            "2012     350\n",
            "2013     532\n",
            "2014     568\n",
            "2015     716\n",
            "2016     736\n",
            "2017     815\n",
            "2018     733\n",
            "2019     794\n",
            "2020     996\n",
            "2021     732\n",
            "2022    1134\n",
            "2023    3433\n",
            "Name: Registration Year, dtype: int64\n"
          ]
        }
      ]
    },
    {
      "cell_type": "markdown",
      "source": [
        "**7. What are the preffered job Locations?**"
      ],
      "metadata": {
        "id": "b8UxaoFlfLHr"
      }
    },
    {
      "cell_type": "code",
      "source": [
        "location_counts=df[\"Location\"].value_counts()\n",
        "plt.pie(location_counts,labels=location_counts.index,autopct='%0.2f%%',shadow=True)\n",
        "plt.title(\"Location Wise Project Distribution\")\n",
        "plt.show()"
      ],
      "metadata": {
        "colab": {
          "base_uri": "https://localhost:8080/",
          "height": 428
        },
        "id": "8MI4h6PvYd9K",
        "outputId": "3b01f09a-7971-4ded-d085-b03b8f64739d"
      },
      "execution_count": 20,
      "outputs": [
        {
          "output_type": "display_data",
          "data": {
            "text/plain": [
              "<Figure size 640x480 with 1 Axes>"
            ],
            "image/png": "[encoded data removed]"
          },
          "metadata": {}
        }
      ]
    },
    {
      "cell_type": "markdown",
      "source": [
        "**8. Top 10 contries having higher jobs.**"
      ],
      "metadata": {
        "id": "KGNabUSlg7ZY"
      }
    },
    {
      "cell_type": "code",
      "source": [
        "top=df[\"Client Country\"].value_counts().sort_values(ascending=False)\n",
        "top_new=top.head(10)\n",
        "sns.barplot(x=top_new.values,y=top_new.index)\n",
        "plt.title(\"Top 10 Countries having higher jobs\")\n",
        "plt.xlabel(\"Number of jobs\")\n",
        "plt.ylabel(\"Country\")"
      ],
      "metadata": {
        "colab": {
          "base_uri": "https://localhost:8080/",
          "height": 489
        },
        "id": "4fUg98cVannS",
        "outputId": "73525be5-7238-4cdd-d78a-4b6ea9af54bf"
      },
      "execution_count": 29,
      "outputs": [
        {
          "output_type": "execute_result",
          "data": {
            "text/plain": [
              "Text(0, 0.5, 'Country')"
            ]
          },
          "metadata": {},
          "execution_count": 29
        },
        {
          "output_type": "display_data",
          "data": {
            "text/plain": [
              "<Figure size 640x480 with 1 Axes>"
            ],
            "image/png": "[encoded data removed]"
          },
          "metadata": {}
        }
      ]
    },
    {
      "cell_type": "markdown",
      "source": [
        "**9. Types of payments for freelancers.**"
      ],
      "metadata": {
        "id": "ipSyqWlPg1jK"
      }
    },
    {
      "cell_type": "code",
      "source": [
        "grp=df[\"Type\"].value_counts()\n",
        "ex=[0.1,0]\n",
        "plt.pie(grp,explode=ex,labels=grp.index,autopct='%0.2f%%',shadow=True)\n",
        "plt.title(\"Type of Payment\")\n",
        "plt.show()"
      ],
      "metadata": {
        "colab": {
          "base_uri": "https://localhost:8080/",
          "height": 428
        },
        "id": "8tL5pjwSa_3b",
        "outputId": "b7cc4f0a-76b0-4ceb-859e-86f7c06fd27c"
      },
      "execution_count": 27,
      "outputs": [
        {
          "output_type": "display_data",
          "data": {
            "text/plain": [
              "<Figure size 640x480 with 1 Axes>"
            ],
            "image/png": "[encoded data removed]"
          },
          "metadata": {}
        }
      ]
    },
    {
      "cell_type": "markdown",
      "source": [
        "**Conclusion**\n",
        "\n",
        "1. The freelance platform dataset has 17 columns and 12222 rows. The Budget is in 3 currencies i.e.'EUR', 'GBP', 'USD', so I converted these in one i.e. USD. for better understanding.\n",
        "2. Different job categories available on freelance platform are 'Design', 'Business', 'Digital marketing', 'Marketing, Branding and Sales', 'Music $ Audio', 'Social media', 'Technology & programming', 'Video, Photo, Image', 'Writing & translation'. Design category is the most popular, while the Music & Audio category has the fewest jobs.\n",
        "3. Website developement is a subcategory having highest number of jobs.\n",
        "4. Technology & Programming, Writing & Translation, Video, Photo & Image, and Social Media are the job categories having higher higher budgets.\n",
        "5. Expert and Entry levels are in high demand, while there are fewer opportunities for those with Intermediate experience.\n",
        "6. 65.5% of the total clients are from only Ireland.\n",
        "7. Number of clients are increasing every year.\n",
        "8. Remote locations have a higher concentration of freelancing jobs.\n",
        "9. 93.53% of these job opportunities provide the flexibility for employees to work remotely.\n",
        "10. United Kingdom, the United States, and India are the countries having highest job opportunities.\n",
        "11. The majority of jobs (85.40%) offer a fixed payment for the completion of a specific task or project. Conversely, 14.60% of jobs offer an hourly payment structure, where employees are compensated based on the number of hours worked."
      ],
      "metadata": {
        "id": "0vhFx7yViE91"
      }
    }
  ]
}